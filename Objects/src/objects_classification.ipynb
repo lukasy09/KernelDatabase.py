{
 "cells": [
  {
   "cell_type": "markdown",
   "metadata": {},
   "source": [
    "# Imports"
   ]
  },
  {
   "cell_type": "code",
   "execution_count": 5,
   "metadata": {},
   "outputs": [],
   "source": [
    "import keras #High level interface of TensorFlow\n",
    "from keras.models import Sequential\n",
    "from keras.layers import Activation\n",
    "from keras.layers import InputLayer\n",
    "from keras.layers.core import Dense,Flatten,Dropout\n",
    "from keras.optimizers import Adam\n",
    "from keras.models import load_model\n",
    "from keras.preprocessing.image import ImageDataGenerator,load_img,img_to_array\n",
    "from keras.layers.convolutional import *\n",
    "import numpy as np \n",
    "import matplotlib.pyplot as plt\n",
    "import tensorflowjs as tfjs\n",
    "from PIL import Image\n",
    "from keras.optimizers import RMSprop"
   ]
  },
  {
   "cell_type": "markdown",
   "metadata": {},
   "source": [
    "# Image preprocessing"
   ]
  },
  {
   "cell_type": "code",
   "execution_count": 6,
   "metadata": {},
   "outputs": [],
   "source": [
    "train_path='../dataset2/train'\n",
    "valid_path='../dataset2/valid'"
   ]
  },
  {
   "cell_type": "code",
   "execution_count": 13,
   "metadata": {},
   "outputs": [
    {
     "name": "stdout",
     "output_type": "stream",
     "text": [
      "Found 4554 images belonging to 51 classes.\n",
      "Found 3492 images belonging to 51 classes.\n"
     ]
    }
   ],
   "source": [
    "batch_size = 16 #Every batch contains data from 16 different images \n",
    "#Data Augmentation\n",
    "train_datagen = ImageDataGenerator( \n",
    "        rescale=1./255,\n",
    "        shear_range=0.2,\n",
    "        zoom_range=0.2,\n",
    "        horizontal_flip=True)\n",
    "\n",
    "train_set = train_datagen.flow_from_directory(\n",
    "        train_path,\n",
    "        target_size=(200, 200),  \n",
    "        batch_size=batch_size,)  \n",
    "valid_set = train_datagen.flow_from_directory(\n",
    "        valid_path,\n",
    "        target_size=(200, 200),  \n",
    "        batch_size=batch_size,)  \n"
   ]
  },
  {
   "cell_type": "markdown",
   "metadata": {},
   "source": [
    "# Creating a model"
   ]
  },
  {
   "cell_type": "code",
   "execution_count": 14,
   "metadata": {},
   "outputs": [
    {
     "name": "stdout",
     "output_type": "stream",
     "text": [
      "_________________________________________________________________\n",
      "Layer (type)                 Output Shape              Param #   \n",
      "=================================================================\n",
      "conv2d_5 (Conv2D)            (None, 198, 198, 32)      896       \n",
      "_________________________________________________________________\n",
      "activation_7 (Activation)    (None, 198, 198, 32)      0         \n",
      "_________________________________________________________________\n",
      "max_pooling2d_5 (MaxPooling2 (None, 99, 99, 32)        0         \n",
      "_________________________________________________________________\n",
      "conv2d_6 (Conv2D)            (None, 97, 97, 32)        9248      \n",
      "_________________________________________________________________\n",
      "activation_8 (Activation)    (None, 97, 97, 32)        0         \n",
      "_________________________________________________________________\n",
      "max_pooling2d_6 (MaxPooling2 (None, 48, 48, 32)        0         \n",
      "_________________________________________________________________\n",
      "conv2d_7 (Conv2D)            (None, 46, 46, 64)        18496     \n",
      "_________________________________________________________________\n",
      "activation_9 (Activation)    (None, 46, 46, 64)        0         \n",
      "_________________________________________________________________\n",
      "max_pooling2d_7 (MaxPooling2 (None, 23, 23, 64)        0         \n",
      "_________________________________________________________________\n",
      "conv2d_8 (Conv2D)            (None, 21, 21, 64)        36928     \n",
      "_________________________________________________________________\n",
      "activation_10 (Activation)   (None, 21, 21, 64)        0         \n",
      "_________________________________________________________________\n",
      "max_pooling2d_8 (MaxPooling2 (None, 10, 10, 64)        0         \n",
      "_________________________________________________________________\n",
      "flatten_2 (Flatten)          (None, 6400)              0         \n",
      "_________________________________________________________________\n",
      "dense_3 (Dense)              (None, 128)               819328    \n",
      "_________________________________________________________________\n",
      "activation_11 (Activation)   (None, 128)               0         \n",
      "_________________________________________________________________\n",
      "dropout_2 (Dropout)          (None, 128)               0         \n",
      "_________________________________________________________________\n",
      "dense_4 (Dense)              (None, 51)                6579      \n",
      "_________________________________________________________________\n",
      "activation_12 (Activation)   (None, 51)                0         \n",
      "=================================================================\n",
      "Total params: 891,475\n",
      "Trainable params: 891,475\n",
      "Non-trainable params: 0\n",
      "_________________________________________________________________\n"
     ]
    }
   ],
   "source": [
    "model = Sequential()\n",
    "model.add(Conv2D(32, (3, 3), input_shape=(200,200, 3)))\n",
    "model.add(Activation('relu'))\n",
    "model.add(MaxPooling2D(pool_size=(2, 2))) #first block, frozen\n",
    "\n",
    "model.add(Conv2D(32, (3, 3)))\n",
    "model.add(Activation('relu'))\n",
    "model.add(MaxPooling2D(pool_size=(2, 2))) #second block, frozen\n",
    "\n",
    "model.add(Conv2D(64, (3, 3)))\n",
    "model.add(Activation('relu'))\n",
    "model.add(MaxPooling2D(pool_size=(2, 2))) #third block, frozen\n",
    "\n",
    "model.add(Conv2D(64, (3, 3)))\n",
    "model.add(Activation('relu'))\n",
    "model.add(MaxPooling2D(pool_size=(2, 2))) #fourth block, frozen\n",
    "\n",
    "model.add(Flatten()) #Stream data to \"nodes\" of the ANN\n",
    "model.add(Dense(128))\n",
    "model.add(Activation('relu'))\n",
    "model.add(Dropout(0.5)) #Dropping out some data\n",
    "model.add(Dense(51))\n",
    "model.add(Activation('softmax'))\n",
    "model.summary()"
   ]
  },
  {
   "cell_type": "code",
   "execution_count": 15,
   "metadata": {},
   "outputs": [],
   "source": [
    "optimizer = RMSprop(lr=0.001, rho=0.9, epsilon=1e-08, decay=0.0)\n",
    "model.compile(loss='categorical_crossentropy',\n",
    "              optimizer=optimizer,\n",
    "              metrics=['accuracy'])"
   ]
  },
  {
   "cell_type": "markdown",
   "metadata": {},
   "source": [
    "# Training"
   ]
  },
  {
   "cell_type": "code",
   "execution_count": 16,
   "metadata": {
    "scrolled": true
   },
   "outputs": [
    {
     "name": "stdout",
     "output_type": "stream",
     "text": [
      "Epoch 1/30\n",
      "284/284 [==============================] - 391s 1s/step - loss: 3.2454 - acc: 0.2707 - val_loss: 2.5755 - val_acc: 0.4146\n",
      "Epoch 2/30\n",
      "284/284 [==============================] - 390s 1s/step - loss: 2.4360 - acc: 0.4261 - val_loss: 2.0441 - val_acc: 0.5011\n",
      "Epoch 3/30\n",
      "284/284 [==============================] - 340s 1s/step - loss: 2.0939 - acc: 0.4902 - val_loss: 1.7354 - val_acc: 0.5831\n",
      "Epoch 4/30\n",
      "284/284 [==============================] - 344s 1s/step - loss: 1.8840 - acc: 0.5331 - val_loss: 1.6509 - val_acc: 0.5946\n",
      "Epoch 5/30\n",
      "284/284 [==============================] - 347s 1s/step - loss: 1.7106 - acc: 0.5706 - val_loss: 1.2427 - val_acc: 0.6726\n",
      "Epoch 6/30\n",
      "284/284 [==============================] - 349s 1s/step - loss: 1.5747 - acc: 0.5969 - val_loss: 1.2484 - val_acc: 0.6737\n",
      "Epoch 7/30\n",
      "284/284 [==============================] - 366s 1s/step - loss: 1.4776 - acc: 0.6148 - val_loss: 1.0625 - val_acc: 0.7309\n",
      "Epoch 8/30\n",
      "284/284 [==============================] - 384s 1s/step - loss: 1.3874 - acc: 0.6376 - val_loss: 1.0541 - val_acc: 0.7276\n",
      "Epoch 9/30\n",
      "284/284 [==============================] - 369s 1s/step - loss: 1.3664 - acc: 0.6383 - val_loss: 0.9977 - val_acc: 0.7385\n",
      "Epoch 10/30\n",
      "284/284 [==============================] - 374s 1s/step - loss: 1.2709 - acc: 0.6724 - val_loss: 0.9209 - val_acc: 0.7724\n",
      "Epoch 11/30\n",
      "284/284 [==============================] - 368s 1s/step - loss: 1.2431 - acc: 0.6744 - val_loss: 1.0853 - val_acc: 0.7246\n",
      "Epoch 12/30\n",
      "284/284 [==============================] - 369s 1s/step - loss: 1.2179 - acc: 0.6798 - val_loss: 0.7962 - val_acc: 0.7873\n",
      "Epoch 13/30\n",
      "284/284 [==============================] - 381s 1s/step - loss: 1.1888 - acc: 0.6944 - val_loss: 0.7592 - val_acc: 0.7933\n",
      "Epoch 14/30\n",
      "284/284 [==============================] - 335s 1s/step - loss: 1.1768 - acc: 0.6901 - val_loss: 0.8492 - val_acc: 0.7924\n",
      "Epoch 15/30\n",
      "284/284 [==============================] - 339s 1s/step - loss: 1.1300 - acc: 0.7076 - val_loss: 0.6953 - val_acc: 0.8129\n",
      "Epoch 16/30\n",
      "284/284 [==============================] - 342s 1s/step - loss: 1.1473 - acc: 0.6996 - val_loss: 0.7814 - val_acc: 0.8010\n",
      "Epoch 17/30\n",
      "284/284 [==============================] - 345s 1s/step - loss: 1.1261 - acc: 0.7109 - val_loss: 0.7678 - val_acc: 0.8025\n",
      "Epoch 18/30\n",
      "284/284 [==============================] - 355s 1s/step - loss: 1.1596 - acc: 0.7066 - val_loss: 0.6391 - val_acc: 0.8268\n",
      "Epoch 19/30\n",
      "284/284 [==============================] - 348s 1s/step - loss: 1.1096 - acc: 0.7207 - val_loss: 1.0104 - val_acc: 0.7800\n",
      "Epoch 20/30\n",
      "284/284 [==============================] - 347s 1s/step - loss: 1.1340 - acc: 0.7086 - val_loss: 0.7330 - val_acc: 0.8056\n",
      "Epoch 21/30\n",
      "284/284 [==============================] - 348s 1s/step - loss: 1.1043 - acc: 0.7165 - val_loss: 0.6367 - val_acc: 0.8424\n",
      "Epoch 22/30\n",
      "284/284 [==============================] - 350s 1s/step - loss: 1.1014 - acc: 0.7104 - val_loss: 0.7658 - val_acc: 0.7878\n",
      "Epoch 23/30\n",
      "284/284 [==============================] - 348s 1s/step - loss: 1.1264 - acc: 0.7099 - val_loss: 0.8606 - val_acc: 0.8083\n",
      "Epoch 24/30\n",
      "284/284 [==============================] - 353s 1s/step - loss: 1.1432 - acc: 0.7138 - val_loss: 0.6548 - val_acc: 0.8280\n",
      "Epoch 25/30\n",
      "284/284 [==============================] - 349s 1s/step - loss: 1.1184 - acc: 0.7190 - val_loss: 0.6538 - val_acc: 0.8245\n",
      "Epoch 26/30\n",
      "284/284 [==============================] - 349s 1s/step - loss: 1.1634 - acc: 0.7047 - val_loss: 0.8906 - val_acc: 0.8033\n",
      "Epoch 27/30\n",
      "284/284 [==============================] - 357s 1s/step - loss: 1.0930 - acc: 0.7256 - val_loss: 0.6111 - val_acc: 0.8499\n",
      "Epoch 28/30\n",
      "284/284 [==============================] - 355s 1s/step - loss: 1.1403 - acc: 0.7168 - val_loss: 0.7845 - val_acc: 0.7970\n",
      "Epoch 29/30\n",
      "284/284 [==============================] - 375s 1s/step - loss: 1.1554 - acc: 0.7099 - val_loss: 0.7759 - val_acc: 0.7991\n",
      "Epoch 30/30\n",
      "284/284 [==============================] - 352s 1s/step - loss: 1.1435 - acc: 0.7115 - val_loss: 0.7385 - val_acc: 0.7999\n"
     ]
    },
    {
     "data": {
      "text/plain": [
       "<keras.callbacks.History at 0xb9bde23ef0>"
      ]
     },
     "execution_count": 16,
     "metadata": {},
     "output_type": "execute_result"
    }
   ],
   "source": [
    "model.fit_generator(train_set,\n",
    "                    steps_per_epoch = 4554//16, #1000/32 numbers of batches per epoch\n",
    "                    epochs = 30,\n",
    "                    validation_data = valid_set,\n",
    "                    validation_steps = 3492//32 )\n",
    "                   \n",
    "        \n",
    "                 "
   ]
  },
  {
   "cell_type": "code",
   "execution_count": 16,
   "metadata": {},
   "outputs": [
    {
     "name": "stdout",
     "output_type": "stream",
     "text": [
      "Saved\n"
     ]
    }
   ],
   "source": [
    "#model.save(\"models/model_200x200.h5\")\n",
    "tfjs.converters.save_keras_model(model, './models/model_3.json')\n",
    "print(\"Saved\")"
   ]
  },
  {
   "cell_type": "code",
   "execution_count": 4,
   "metadata": {},
   "outputs": [
    {
     "data": {
      "text/plain": [
       "{'Faces': 0,\n",
       " 'Faces_easy': 1,\n",
       " 'Leopards': 2,\n",
       " 'Motorbikes': 3,\n",
       " 'accordion': 4,\n",
       " 'airplanes': 5,\n",
       " 'anchor': 6,\n",
       " 'ant': 7,\n",
       " 'barrel': 8,\n",
       " 'bass': 9,\n",
       " 'beaver': 10,\n",
       " 'binocular': 11,\n",
       " 'bonsai': 12,\n",
       " 'brain': 13,\n",
       " 'brontosaurus': 14,\n",
       " 'buddha': 15,\n",
       " 'butterfly': 16,\n",
       " 'camera': 17,\n",
       " 'cannon': 18,\n",
       " 'car_side': 19,\n",
       " 'ceiling_fan': 20,\n",
       " 'cellphone': 21,\n",
       " 'chair': 22,\n",
       " 'chandelier': 23,\n",
       " 'cougar_body': 24,\n",
       " 'cougar_face': 25,\n",
       " 'crab': 26,\n",
       " 'crayfish': 27,\n",
       " 'crocodile': 28,\n",
       " 'crocodile_head': 29,\n",
       " 'cup': 30,\n",
       " 'dalmatian': 31,\n",
       " 'dollar_bill': 32,\n",
       " 'dolphin': 33,\n",
       " 'dragonfly': 34,\n",
       " 'electric_guitar': 35,\n",
       " 'elephant': 36,\n",
       " 'emu': 37,\n",
       " 'euphonium': 38,\n",
       " 'ewer': 39,\n",
       " 'ferry': 40,\n",
       " 'flamingo': 41,\n",
       " 'flamingo_head': 42,\n",
       " 'garfield': 43,\n",
       " 'gerenuk': 44,\n",
       " 'gramophone': 45,\n",
       " 'grand_piano': 46,\n",
       " 'hawksbill': 47,\n",
       " 'headphone': 48,\n",
       " 'hedgehog': 49,\n",
       " 'helicopter': 50,\n",
       " 'ibis': 51,\n",
       " 'inline_skate': 52,\n",
       " 'joshua_tree': 53,\n",
       " 'kangaroo': 54,\n",
       " 'ketch': 55,\n",
       " 'lamp': 56,\n",
       " 'laptop': 57,\n",
       " 'llama': 58,\n",
       " 'lobster': 59,\n",
       " 'lotus': 60,\n",
       " 'mandolin': 61,\n",
       " 'mayfly': 62,\n",
       " 'menorah': 63,\n",
       " 'metronome': 64,\n",
       " 'minaret': 65,\n",
       " 'nautilus': 66,\n",
       " 'octopus': 67,\n",
       " 'okapi': 68,\n",
       " 'pagoda': 69,\n",
       " 'panda': 70,\n",
       " 'pigeon': 71,\n",
       " 'pizza': 72,\n",
       " 'platypus': 73,\n",
       " 'pyramid': 74,\n",
       " 'revolver': 75,\n",
       " 'rhino': 76,\n",
       " 'rooster': 77,\n",
       " 'saxophone': 78,\n",
       " 'schooner': 79,\n",
       " 'scissors': 80,\n",
       " 'scorpion': 81,\n",
       " 'sea_horse': 82,\n",
       " 'snoopy': 83,\n",
       " 'soccer_ball': 84,\n",
       " 'stapler': 85,\n",
       " 'starfish': 86,\n",
       " 'stegosaurus': 87,\n",
       " 'stop_sign': 88,\n",
       " 'strawberry': 89,\n",
       " 'sunflower': 90,\n",
       " 'tick': 91,\n",
       " 'trilobite': 92,\n",
       " 'umbrella': 93,\n",
       " 'watch': 94,\n",
       " 'water_lilly': 95,\n",
       " 'wheelchair': 96,\n",
       " 'wild_cat': 97,\n",
       " 'windsor_chair': 98,\n",
       " 'wrench': 99,\n",
       " 'yin_yang': 100}"
      ]
     },
     "execution_count": 4,
     "metadata": {},
     "output_type": "execute_result"
    }
   ],
   "source": [
    "valid_set.class_indices"
   ]
  },
  {
   "cell_type": "code",
   "execution_count": 71,
   "metadata": {},
   "outputs": [
    {
     "data": {
      "image/png": "[encoded data removed]",
      "text/plain": [
       "<PIL.JpegImagePlugin.JpegImageFile image mode=RGB size=277x182 at 0xBD1E9D4F98>"
      ]
     },
     "execution_count": 71,
     "metadata": {},
     "output_type": "execute_result"
    }
   ],
   "source": [
    "image = Image.open(\"PersonalTestSet/bin.jpg\")\n",
    "image"
   ]
  },
  {
   "cell_type": "code",
   "execution_count": 72,
   "metadata": {},
   "outputs": [],
   "source": [
    "def preprocess_img(img,target_size):\n",
    "    img = img.resize(target_size)\n",
    "    img = img_to_array(img)\n",
    "    img = np.expand_dims(img,axis=0)\n",
    "    return img"
   ]
  },
  {
   "cell_type": "code",
   "execution_count": 73,
   "metadata": {},
   "outputs": [],
   "source": [
    "preprocessed_image = preprocess_img(image,target_size=(200,200))"
   ]
  },
  {
   "cell_type": "code",
   "execution_count": 74,
   "metadata": {
    "scrolled": true
   },
   "outputs": [
    {
     "data": {
      "text/plain": [
       "array([16], dtype=int64)"
      ]
     },
     "execution_count": 74,
     "metadata": {},
     "output_type": "execute_result"
    }
   ],
   "source": [
    "predictions = model.predict_classes(preprocessed_image)\n",
    "predictions"
   ]
  },
  {
   "cell_type": "code",
   "execution_count": null,
   "metadata": {},
   "outputs": [],
   "source": []
  },
  {
   "cell_type": "code",
   "execution_count": null,
   "metadata": {},
   "outputs": [],
   "source": []
  }
 ],
 "metadata": {
  "kernelspec": {
   "display_name": "Python 3",
   "language": "python",
   "name": "python3"
  },
  "language_info": {
   "codemirror_mode": {
    "name": "ipython",
    "version": 3
   },
   "file_extension": ".py",
   "mimetype": "text/x-python",
   "name": "python",
   "nbconvert_exporter": "python",
   "pygments_lexer": "ipython3",
   "version": "3.6.5"
  }
 },
 "nbformat": 4,
 "nbformat_minor": 2
}
