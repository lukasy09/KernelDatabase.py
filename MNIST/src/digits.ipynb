{
 "cells": [
  {
   "cell_type": "markdown",
   "metadata": {},
   "source": [
    "# 1. Imports of necessary libraries"
   ]
  },
  {
   "cell_type": "code",
   "execution_count": 11,
   "metadata": {},
   "outputs": [],
   "source": [
    "import keras #High level interface of TensorFlow\n",
    "from keras.models import Sequential\n",
    "from keras.models import load_model\n",
    "from keras.preprocessing.image import ImageDataGenerator,load_img,img_to_array\n",
    "from keras.layers import Dense, Dropout, Flatten, Conv2D, MaxPool2D\n",
    "from keras.utils.np_utils import to_categorical \n",
    "import numpy as np \n",
    "import matplotlib.pyplot as plt\n",
    "from PIL import Image\n",
    "from keras.optimizers import RMSprop\n",
    "import tensorflowjs as tfjs\n",
    "import pandas as pd\n",
    "from sklearn.model_selection import train_test_split"
   ]
  },
  {
   "cell_type": "markdown",
   "metadata": {},
   "source": [
    "# 2.Data importing& preprocessing"
   ]
  },
  {
   "cell_type": "markdown",
   "metadata": {},
   "source": [
    "## 2.1 Importing and entry processing"
   ]
  },
  {
   "cell_type": "code",
   "execution_count": 2,
   "metadata": {},
   "outputs": [],
   "source": [
    "train_set = pd.read_csv(\"../data/train.csv\") # raw data\n",
    "\n",
    "# DV\n",
    "Y_train = train_set[\"label\"]\n",
    "# IV\n",
    "X_train = train_set.drop(labels = [\"label\"], axis = 1)\n",
    "#X_train"
   ]
  },
  {
   "cell_type": "markdown",
   "metadata": {},
   "source": [
    "## 2.2Normalization to [0-1]  range"
   ]
  },
  {
   "cell_type": "code",
   "execution_count": 3,
   "metadata": {},
   "outputs": [],
   "source": [
    "X_train = X_train / 255\n",
    "\n",
    "\n",
    "X_train = X_train.values.reshape(-1,28,28,1)\n",
    "\n",
    "Y_train = to_categorical(Y_train, num_classes = 10)"
   ]
  },
  {
   "cell_type": "markdown",
   "metadata": {},
   "source": [
    "## 2.3Data spliting into train & valid set "
   ]
  },
  {
   "cell_type": "code",
   "execution_count": 4,
   "metadata": {},
   "outputs": [],
   "source": [
    "X_train, X_valid , Y_train , Y_valid = train_test_split(X_train, Y_train, test_size = 0.2, random_state = 42)"
   ]
  },
  {
   "cell_type": "markdown",
   "metadata": {},
   "source": [
    "## 2.4 Augmentation"
   ]
  },
  {
   "cell_type": "code",
   "execution_count": 5,
   "metadata": {},
   "outputs": [],
   "source": [
    "igm =  ImageDataGenerator (\n",
    "    featurewise_center=False,\n",
    "    samplewise_center=False,\n",
    "    rotation_range=15,\n",
    "    zoom_range = 0.2,\n",
    "    width_shift_range=0.3,\n",
    "    height_shift_range=0.2,\n",
    "    horizontal_flip=False,\n",
    "    vertical_flip=False)\n",
    "\n",
    "igm.fit(X_train)"
   ]
  },
  {
   "cell_type": "markdown",
   "metadata": {},
   "source": [
    "# 3. Building the architecture of Keras model & Compilation"
   ]
  },
  {
   "cell_type": "markdown",
   "metadata": {},
   "source": [
    "## 3.1 Architecture"
   ]
  },
  {
   "cell_type": "code",
   "execution_count": 6,
   "metadata": {},
   "outputs": [],
   "source": [
    "model = Sequential(\n",
    "        [\n",
    "            Conv2D(32, (3,3),activation = \"relu\", input_shape = (28,28,1)),\n",
    "            MaxPool2D(pool_size = (2, 2)),\n",
    "            Conv2D(32, (3,3),activation = \"relu\"),\n",
    "            MaxPool2D(pool_size = (2, 2)),\n",
    "            Flatten(),\n",
    "            Dropout(0.25),\n",
    "            Dense(units = 32, activation = \"relu\"),\n",
    "            Dense(units = 10, activation = \"sigmoid\")  \n",
    "        ]\n",
    ")"
   ]
  },
  {
   "cell_type": "markdown",
   "metadata": {},
   "source": [
    "## 3.2 Compilation"
   ]
  },
  {
   "cell_type": "code",
   "execution_count": 7,
   "metadata": {},
   "outputs": [],
   "source": [
    "model.compile(loss='categorical_crossentropy',\n",
    "              optimizer=\"adam\",\n",
    "              metrics=['accuracy'])"
   ]
  },
  {
   "cell_type": "markdown",
   "metadata": {},
   "source": [
    "# 4. Training"
   ]
  },
  {
   "cell_type": "code",
   "execution_count": 9,
   "metadata": {},
   "outputs": [
    {
     "name": "stdout",
     "output_type": "stream",
     "text": [
      "Epoch 1/10\n",
      "2100/2100 [==============================] - 32s 15ms/step - loss: 1.0585 - acc: 0.6438 - val_loss: 0.2898 - val_acc: 0.9182\n",
      "Epoch 2/10\n",
      "2100/2100 [==============================] - 31s 15ms/step - loss: 0.5279 - acc: 0.8354 - val_loss: 0.1697 - val_acc: 0.9487\n",
      "Epoch 3/10\n",
      "2100/2100 [==============================] - 32s 15ms/step - loss: 0.4025 - acc: 0.8768 - val_loss: 0.1395 - val_acc: 0.9563\n",
      "Epoch 4/10\n",
      "2100/2100 [==============================] - 33s 16ms/step - loss: 0.3327 - acc: 0.8960 - val_loss: 0.0986 - val_acc: 0.9690\n",
      "Epoch 5/10\n",
      "2100/2100 [==============================] - 32s 15ms/step - loss: 0.2908 - acc: 0.9093 - val_loss: 0.0791 - val_acc: 0.9758\n",
      "Epoch 6/10\n",
      "2100/2100 [==============================] - 33s 16ms/step - loss: 0.2630 - acc: 0.9177 - val_loss: 0.0794 - val_acc: 0.9757\n",
      "Epoch 7/10\n",
      "2100/2100 [==============================] - 33s 15ms/step - loss: 0.2480 - acc: 0.9210 - val_loss: 0.1184 - val_acc: 0.9650\n",
      "Epoch 8/10\n",
      "2100/2100 [==============================] - 32s 15ms/step - loss: 0.2344 - acc: 0.9283 - val_loss: 0.0714 - val_acc: 0.9775\n",
      "Epoch 9/10\n",
      "2100/2100 [==============================] - 34s 16ms/step - loss: 0.2206 - acc: 0.9311 - val_loss: 0.0648 - val_acc: 0.9792\n",
      "Epoch 10/10\n",
      "2100/2100 [==============================] - 33s 16ms/step - loss: 0.2137 - acc: 0.9335 - val_loss: 0.0781 - val_acc: 0.9757\n"
     ]
    },
    {
     "data": {
      "text/plain": [
       "<keras.callbacks.History at 0x5ca0adb940>"
      ]
     },
     "execution_count": 9,
     "metadata": {},
     "output_type": "execute_result"
    }
   ],
   "source": [
    "model.fit_generator(\n",
    "    igm.flow(X_train, Y_train, batch_size = 16),\n",
    "    epochs = 10,\n",
    "    steps_per_epoch = X_train.shape[0] // 16,\n",
    "    validation_data = (X_valid, Y_valid)\n",
    "    )"
   ]
  },
  {
   "cell_type": "markdown",
   "metadata": {},
   "source": [
    "# Saving a model"
   ]
  },
  {
   "cell_type": "code",
   "execution_count": 12,
   "metadata": {},
   "outputs": [],
   "source": [
    "tfjs.converters.save_keras_model(model, './ModelJS')"
   ]
  },
  {
   "cell_type": "code",
   "execution_count": null,
   "metadata": {},
   "outputs": [],
   "source": []
  }
 ],
 "metadata": {
  "kernelspec": {
   "display_name": "Python 3",
   "language": "python",
   "name": "python3"
  },
  "language_info": {
   "codemirror_mode": {
    "name": "ipython",
    "version": 3
   },
   "file_extension": ".py",
   "mimetype": "text/x-python",
   "name": "python",
   "nbconvert_exporter": "python",
   "pygments_lexer": "ipython3",
   "version": "3.6.5"
  }
 },
 "nbformat": 4,
 "nbformat_minor": 2
}
