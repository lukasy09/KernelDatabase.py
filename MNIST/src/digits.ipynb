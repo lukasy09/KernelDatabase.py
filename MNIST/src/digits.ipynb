{
 "cells": [
  {
   "cell_type": "markdown",
   "metadata": {},
   "source": [
    "# 1. Imports of necessary libraries"
   ]
  },
  {
   "cell_type": "code",
   "execution_count": 13,
   "metadata": {},
   "outputs": [],
   "source": [
    "import keras #High level interface of TensorFlow\n",
    "from keras.models import Sequential\n",
    "from keras.models import load_model\n",
    "from keras.preprocessing.image import ImageDataGenerator,load_img,img_to_array\n",
    "from keras.layers import Dense, Dropout, Flatten, Conv2D, MaxPool2D\n",
    "from keras.utils.np_utils import to_categorical \n",
    "import numpy as np \n",
    "import matplotlib.pyplot as plt\n",
    "from PIL import Image\n",
    "from keras.optimizers import RMSprop\n",
    "import tensorflowjs as tfjs\n",
    "import pandas as pd\n",
    "from sklearn.model_selection import train_test_split"
   ]
  },
  {
   "cell_type": "markdown",
   "metadata": {},
   "source": [
    "# 2.Data importing& preprocessing"
   ]
  },
  {
   "cell_type": "markdown",
   "metadata": {},
   "source": [
    "## 2.1 Importing and entry processing"
   ]
  },
  {
   "cell_type": "code",
   "execution_count": 22,
   "metadata": {},
   "outputs": [],
   "source": [
    "train_set = pd.read_csv(\"../data/train.csv\") # raw data\n",
    "\n",
    "# DV\n",
    "Y_train = train_set[\"label\"]\n",
    "# IV\n",
    "X_train = train_set.drop(labels = [\"label\"], axis = 1)\n",
    "#X_train"
   ]
  },
  {
   "cell_type": "markdown",
   "metadata": {},
   "source": [
    "## 2.2Normalization to [0-1]  range"
   ]
  },
  {
   "cell_type": "code",
   "execution_count": 23,
   "metadata": {},
   "outputs": [],
   "source": [
    "X_train = X_train / 255\n",
    "\n",
    "\n",
    "X_train = X_train.values.reshape(-1,28,28,1)\n",
    "\n",
    "Y_train = to_categorical(Y_train, num_classes = 10)"
   ]
  },
  {
   "cell_type": "markdown",
   "metadata": {},
   "source": [
    "## 2.3Data spliting into train & valid set "
   ]
  },
  {
   "cell_type": "code",
   "execution_count": 24,
   "metadata": {},
   "outputs": [],
   "source": [
    "X_train, X_valid , Y_train , Y_valid = train_test_split(X_train, Y_train, test_size = 0.2, random_state = 42)"
   ]
  },
  {
   "cell_type": "markdown",
   "metadata": {},
   "source": [
    "## 2.4 Augmentation"
   ]
  },
  {
   "cell_type": "code",
   "execution_count": 25,
   "metadata": {},
   "outputs": [],
   "source": [
    "igd = ImageDataGenerator(\n",
    "    featurewise_center=False,\n",
    "    samplewise_center=False,\n",
    "    featurewise_std_normalization=False,\n",
    "    samplewise_std_normalization=False,\n",
    "    zca_whitening=False,\n",
    "    rotation_range=10,\n",
    "    zoom_range = 0.1,\n",
    "    width_shift_range=0.1,\n",
    "    height_shift_range=0.1,\n",
    "    horizontal_flip=False,\n",
    "    vertical_flip=False\n",
    ")\n",
    "\n",
    "igd.fit(X_train)"
   ]
  },
  {
   "cell_type": "markdown",
   "metadata": {},
   "source": [
    "# 3. Building the architecture of Keras model & Compilation"
   ]
  },
  {
   "cell_type": "markdown",
   "metadata": {},
   "source": [
    "## 3.1 Architecture"
   ]
  },
  {
   "cell_type": "code",
   "execution_count": 26,
   "metadata": {},
   "outputs": [],
   "source": [
    "model = Sequential(\n",
    "        [\n",
    "            Conv2D(32, (3,3),activation = \"relu\",padding = 'Same',input_shape = (28,28,1)),\n",
    "            Conv2D(32, (3,3),activation = \"relu\",padding = 'Same'),\n",
    "            MaxPool2D(pool_size = (2, 2)),\n",
    "            Flatten(),\n",
    "            Dropout(0.25),\n",
    "            Dense(units = 64, activation = \"relu\"),\n",
    "            Dense(units = 10, activation = \"sigmoid\")  \n",
    "        ]\n",
    ")"
   ]
  },
  {
   "cell_type": "markdown",
   "metadata": {},
   "source": [
    "## 3.2 Compilation"
   ]
  },
  {
   "cell_type": "code",
   "execution_count": 27,
   "metadata": {},
   "outputs": [],
   "source": [
    "model.compile(loss='categorical_crossentropy',\n",
    "              optimizer=\"adam\",\n",
    "              metrics=['accuracy'])"
   ]
  },
  {
   "cell_type": "markdown",
   "metadata": {},
   "source": [
    "# 4. Training"
   ]
  },
  {
   "cell_type": "code",
   "execution_count": 28,
   "metadata": {},
   "outputs": [
    {
     "name": "stdout",
     "output_type": "stream",
     "text": [
      "Epoch 1/50\n",
      "1050/1050 [==============================] - 118s 112ms/step - loss: 0.4212 - acc: 0.8664 - val_loss: 0.0961 - val_acc: 0.9707\n",
      "Epoch 2/50\n",
      "1050/1050 [==============================] - 117s 111ms/step - loss: 0.1588 - acc: 0.9510 - val_loss: 0.0797 - val_acc: 0.9769\n",
      "Epoch 3/50\n",
      "1050/1050 [==============================] - 117s 111ms/step - loss: 0.1216 - acc: 0.9629 - val_loss: 0.0610 - val_acc: 0.9819\n",
      "Epoch 4/50\n",
      "1050/1050 [==============================] - 117s 111ms/step - loss: 0.1028 - acc: 0.9686 - val_loss: 0.0424 - val_acc: 0.9874\n",
      "Epoch 5/50\n",
      "1050/1050 [==============================] - 118s 112ms/step - loss: 0.0898 - acc: 0.9728 - val_loss: 0.0479 - val_acc: 0.9862\n",
      "Epoch 6/50\n",
      "1050/1050 [==============================] - 116s 111ms/step - loss: 0.0824 - acc: 0.9744 - val_loss: 0.0407 - val_acc: 0.9873\n",
      "Epoch 7/50\n",
      "1050/1050 [==============================] - 121s 115ms/step - loss: 0.0732 - acc: 0.9771 - val_loss: 0.0423 - val_acc: 0.9877\n",
      "Epoch 8/50\n",
      "1050/1050 [==============================] - 124s 118ms/step - loss: 0.0706 - acc: 0.9790 - val_loss: 0.0334 - val_acc: 0.9901\n",
      "Epoch 9/50\n",
      "1050/1050 [==============================] - 125s 119ms/step - loss: 0.0654 - acc: 0.9796 - val_loss: 0.0322 - val_acc: 0.9896\n",
      "Epoch 10/50\n",
      "1050/1050 [==============================] - 122s 116ms/step - loss: 0.0622 - acc: 0.9810 - val_loss: 0.0350 - val_acc: 0.9877\n",
      "Epoch 11/50\n",
      "1050/1050 [==============================] - 121s 116ms/step - loss: 0.0590 - acc: 0.9821 - val_loss: 0.0325 - val_acc: 0.9901\n",
      "Epoch 12/50\n",
      "1050/1050 [==============================] - 121s 115ms/step - loss: 0.0555 - acc: 0.9831 - val_loss: 0.0341 - val_acc: 0.9887\n",
      "Epoch 13/50\n",
      "1050/1050 [==============================] - 120s 114ms/step - loss: 0.0523 - acc: 0.9839 - val_loss: 0.0316 - val_acc: 0.9905\n",
      "Epoch 14/50\n",
      "1050/1050 [==============================] - 120s 115ms/step - loss: 0.0500 - acc: 0.9847 - val_loss: 0.0303 - val_acc: 0.9907\n",
      "Epoch 15/50\n",
      "1050/1050 [==============================] - 123s 117ms/step - loss: 0.0492 - acc: 0.9845 - val_loss: 0.0257 - val_acc: 0.9923\n",
      "Epoch 16/50\n",
      "1050/1050 [==============================] - 122s 116ms/step - loss: 0.0469 - acc: 0.9854 - val_loss: 0.0280 - val_acc: 0.9918\n",
      "Epoch 17/50\n",
      "1050/1050 [==============================] - 122s 116ms/step - loss: 0.0476 - acc: 0.9851 - val_loss: 0.0257 - val_acc: 0.9931\n",
      "Epoch 18/50\n",
      "1050/1050 [==============================] - 122s 117ms/step - loss: 0.0446 - acc: 0.9857 - val_loss: 0.0376 - val_acc: 0.9885\n",
      "Epoch 19/50\n",
      "1050/1050 [==============================] - 127s 121ms/step - loss: 0.0471 - acc: 0.9848 - val_loss: 0.0262 - val_acc: 0.9921\n",
      "Epoch 20/50\n",
      "1050/1050 [==============================] - 128s 122ms/step - loss: 0.0403 - acc: 0.9875 - val_loss: 0.0277 - val_acc: 0.9920\n",
      "Epoch 21/50\n",
      "1050/1050 [==============================] - 128s 122ms/step - loss: 0.0395 - acc: 0.9874 - val_loss: 0.0268 - val_acc: 0.9924\n",
      "Epoch 22/50\n",
      "1050/1050 [==============================] - 132s 126ms/step - loss: 0.0402 - acc: 0.9872 - val_loss: 0.0256 - val_acc: 0.9929\n",
      "Epoch 23/50\n",
      "1050/1050 [==============================] - 132s 125ms/step - loss: 0.0393 - acc: 0.9872 - val_loss: 0.0267 - val_acc: 0.9918\n",
      "Epoch 24/50\n",
      "1050/1050 [==============================] - 138s 131ms/step - loss: 0.0389 - acc: 0.9883 - val_loss: 0.0265 - val_acc: 0.9914\n",
      "Epoch 25/50\n",
      "1050/1050 [==============================] - 142s 136ms/step - loss: 0.0395 - acc: 0.9877 - val_loss: 0.0251 - val_acc: 0.9924\n",
      "Epoch 26/50\n",
      "1050/1050 [==============================] - 136s 129ms/step - loss: 0.0346 - acc: 0.9899 - val_loss: 0.0242 - val_acc: 0.9932\n",
      "Epoch 27/50\n",
      "1050/1050 [==============================] - 130s 123ms/step - loss: 0.0362 - acc: 0.9890 - val_loss: 0.0236 - val_acc: 0.9931\n",
      "Epoch 28/50\n",
      "1050/1050 [==============================] - 132s 125ms/step - loss: 0.0341 - acc: 0.9889 - val_loss: 0.0329 - val_acc: 0.9900\n",
      "Epoch 29/50\n",
      "1050/1050 [==============================] - 131s 125ms/step - loss: 0.0345 - acc: 0.9888 - val_loss: 0.0237 - val_acc: 0.9927\n",
      "Epoch 30/50\n",
      "1050/1050 [==============================] - 129s 123ms/step - loss: 0.0344 - acc: 0.9897 - val_loss: 0.0284 - val_acc: 0.9914\n",
      "Epoch 31/50\n",
      "1050/1050 [==============================] - 126s 120ms/step - loss: 0.0337 - acc: 0.9894 - val_loss: 0.0258 - val_acc: 0.9917\n",
      "Epoch 32/50\n",
      "1050/1050 [==============================] - 121s 115ms/step - loss: 0.0325 - acc: 0.9900 - val_loss: 0.0223 - val_acc: 0.9933\n",
      "Epoch 33/50\n",
      "1050/1050 [==============================] - 117s 111ms/step - loss: 0.0342 - acc: 0.9889 - val_loss: 0.0248 - val_acc: 0.9924\n",
      "Epoch 34/50\n",
      "1050/1050 [==============================] - 116s 111ms/step - loss: 0.0328 - acc: 0.9899 - val_loss: 0.0270 - val_acc: 0.9914\n",
      "Epoch 35/50\n",
      "1050/1050 [==============================] - 119s 113ms/step - loss: 0.0310 - acc: 0.9903 - val_loss: 0.0260 - val_acc: 0.9917\n",
      "Epoch 36/50\n",
      "1050/1050 [==============================] - 121s 116ms/step - loss: 0.0311 - acc: 0.9900 - val_loss: 0.0235 - val_acc: 0.9923\n",
      "Epoch 37/50\n",
      "1050/1050 [==============================] - 118s 113ms/step - loss: 0.0295 - acc: 0.9909 - val_loss: 0.0282 - val_acc: 0.9914\n",
      "Epoch 38/50\n",
      "1050/1050 [==============================] - 117s 111ms/step - loss: 0.0300 - acc: 0.9906 - val_loss: 0.0260 - val_acc: 0.9921\n",
      "Epoch 39/50\n",
      "1050/1050 [==============================] - 115s 109ms/step - loss: 0.0316 - acc: 0.9899 - val_loss: 0.0231 - val_acc: 0.9932\n",
      "Epoch 40/50\n",
      "1050/1050 [==============================] - 117s 111ms/step - loss: 0.0273 - acc: 0.9913 - val_loss: 0.0268 - val_acc: 0.9923\n",
      "Epoch 41/50\n",
      "1050/1050 [==============================] - 110s 105ms/step - loss: 0.0294 - acc: 0.9909 - val_loss: 0.0256 - val_acc: 0.9924\n",
      "Epoch 42/50\n",
      "1050/1050 [==============================] - 114s 108ms/step - loss: 0.0291 - acc: 0.9913 - val_loss: 0.0266 - val_acc: 0.9926\n",
      "Epoch 43/50\n",
      "1050/1050 [==============================] - 119s 113ms/step - loss: 0.0291 - acc: 0.9910 - val_loss: 0.0303 - val_acc: 0.9919\n",
      "Epoch 44/50\n",
      "1050/1050 [==============================] - 118s 113ms/step - loss: 0.0280 - acc: 0.9913 - val_loss: 0.0293 - val_acc: 0.9911\n",
      "Epoch 45/50\n",
      "1050/1050 [==============================] - 118s 112ms/step - loss: 0.0272 - acc: 0.9913 - val_loss: 0.0216 - val_acc: 0.9932\n",
      "Epoch 46/50\n",
      "1050/1050 [==============================] - 117s 111ms/step - loss: 0.0278 - acc: 0.9917 - val_loss: 0.0261 - val_acc: 0.9924\n",
      "Epoch 47/50\n",
      "1050/1050 [==============================] - 119s 113ms/step - loss: 0.0278 - acc: 0.9910 - val_loss: 0.0289 - val_acc: 0.9921\n",
      "Epoch 48/50\n",
      "1050/1050 [==============================] - 122s 116ms/step - loss: 0.0266 - acc: 0.9917 - val_loss: 0.0273 - val_acc: 0.9918\n",
      "Epoch 49/50\n",
      "1050/1050 [==============================] - 129s 123ms/step - loss: 0.0279 - acc: 0.9913 - val_loss: 0.0190 - val_acc: 0.9937\n",
      "Epoch 50/50\n",
      "1050/1050 [==============================] - 130s 124ms/step - loss: 0.0266 - acc: 0.9920 - val_loss: 0.0253 - val_acc: 0.9933\n"
     ]
    },
    {
     "data": {
      "text/plain": [
       "<keras.callbacks.History at 0x5c9e7b6a58>"
      ]
     },
     "execution_count": 28,
     "metadata": {},
     "output_type": "execute_result"
    }
   ],
   "source": [
    "model.fit_generator(\n",
    "    igd.flow(X_train, Y_train, batch_size = 32),\n",
    "    epochs = 50,\n",
    "    steps_per_epoch = X_train.shape[0] // 32,\n",
    "    validation_data = (X_valid, Y_valid)\n",
    "    )"
   ]
  },
  {
   "cell_type": "markdown",
   "metadata": {},
   "source": [
    "# Saving a model"
   ]
  },
  {
   "cell_type": "code",
   "execution_count": 21,
   "metadata": {},
   "outputs": [],
   "source": [
    "tfjs.converters.save_keras_model(model, '../model')"
   ]
  }
 ],
 "metadata": {
  "kernelspec": {
   "display_name": "Python 3",
   "language": "python",
   "name": "python3"
  },
  "language_info": {
   "codemirror_mode": {
    "name": "ipython",
    "version": 3
   },
   "file_extension": ".py",
   "mimetype": "text/x-python",
   "name": "python",
   "nbconvert_exporter": "python",
   "pygments_lexer": "ipython3",
   "version": "3.6.5"
  }
 },
 "nbformat": 4,
 "nbformat_minor": 2
}
