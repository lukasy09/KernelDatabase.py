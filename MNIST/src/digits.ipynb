{
 "cells": [
  {
   "cell_type": "markdown",
   "metadata": {},
   "source": [
    "# 1. Imports of necessary libraries"
   ]
  },
  {
   "cell_type": "code",
   "execution_count": 68,
   "metadata": {},
   "outputs": [],
   "source": [
    "import keras #High level interface of TensorFlow\n",
    "from keras.models import Sequential\n",
    "from keras.models import load_model\n",
    "from keras.preprocessing.image import ImageDataGenerator,load_img,img_to_array\n",
    "from keras.layers import Dense, Dropout, Flatten, Conv2D, MaxPool2D\n",
    "from keras.utils.np_utils import to_categorical \n",
    "import numpy as np \n",
    "import matplotlib.pyplot as plt\n",
    "from PIL import Image\n",
    "from keras.optimizers import RMSprop\n",
    "import tensorflowjs as tfjs\n",
    "import pandas as pd\n",
    "from sklearn.model_selection import train_test_split"
   ]
  },
  {
   "cell_type": "markdown",
   "metadata": {},
   "source": [
    "# 2.Data importing& preprocessing"
   ]
  },
  {
   "cell_type": "markdown",
   "metadata": {},
   "source": [
    "## 2.1 Importing and entry processing"
   ]
  },
  {
   "cell_type": "code",
   "execution_count": 69,
   "metadata": {},
   "outputs": [],
   "source": [
    "train_set = pd.read_csv(\"../data/train.csv\") # raw data\n",
    "\n",
    "# DV\n",
    "Y_train = train_set[\"label\"]\n",
    "# IV\n",
    "X_train = train_set.drop(labels = [\"label\"], axis = 1)\n",
    "#X_train"
   ]
  },
  {
   "cell_type": "markdown",
   "metadata": {},
   "source": [
    "## 2.2Normalization to [0-1]  range"
   ]
  },
  {
   "cell_type": "code",
   "execution_count": 70,
   "metadata": {},
   "outputs": [],
   "source": [
    "X_train = X_train / 255.0\n",
    "\n",
    "\n",
    "X_train = X_train.values.reshape(-1,28,28,1)\n",
    "\n",
    "Y_train = to_categorical(Y_train, num_classes = 10)"
   ]
  },
  {
   "cell_type": "markdown",
   "metadata": {},
   "source": [
    "## 2.3Data spliting into train & valid set "
   ]
  },
  {
   "cell_type": "code",
   "execution_count": 71,
   "metadata": {},
   "outputs": [],
   "source": [
    "X_train, X_valid , Y_train , Y_valid = train_test_split(X_train, Y_train, test_size = 0.2, random_state = 42)"
   ]
  },
  {
   "cell_type": "markdown",
   "metadata": {},
   "source": [
    "## 2.4 Augmentation"
   ]
  },
  {
   "cell_type": "code",
   "execution_count": 72,
   "metadata": {},
   "outputs": [],
   "source": [
    "igd = ImageDataGenerator(\n",
    "    featurewise_center=False,\n",
    "    samplewise_center=False,\n",
    "    featurewise_std_normalization=False,\n",
    "    samplewise_std_normalization=False,\n",
    "    zca_whitening=False,\n",
    "    rotation_range=10,\n",
    "    zoom_range = 0.1,\n",
    "    width_shift_range=0.1,\n",
    "    height_shift_range=0.1,\n",
    "    horizontal_flip=False,\n",
    "    vertical_flip=False\n",
    ")\n",
    "\n",
    "igd.fit(X_train)"
   ]
  },
  {
   "cell_type": "markdown",
   "metadata": {},
   "source": [
    "# 3. Building the architecture of Keras model & Compilation"
   ]
  },
  {
   "cell_type": "markdown",
   "metadata": {},
   "source": [
    "## 3.1 Architecture"
   ]
  },
  {
   "cell_type": "code",
   "execution_count": 73,
   "metadata": {},
   "outputs": [
    {
     "data": {
      "text/plain": [
       "'# Create model using Keras Sequential API\\nmodel = Sequential()\\n\\n\\n# CONVOLUTIONAL/MAXPOOL LAYERS\\n# = = = = = = = = = = = = = = = = = = = = = = = = = = = = = = = = = = = \\n\\n# Convolutional 2D layer #1\\n# Computes 32 features using a 5x5 filter with ReLU activation.\\nmodel.add(Conv2D(\\n    filters = 32, \\n    kernel_size = (5,5),\\n    padding = \\'Same\\', \\n    activation =\\'relu\\',\\n    input_shape = (28,28,1)\\n))\\n\\n# Convolutional 2D layer #2\\n# Computes 32 features using a 5x5 filter with ReLU activation.\\nmodel.add(Conv2D(\\n    filters = 32, \\n    kernel_size = (5,5),\\n    padding = \\'Same\\', \\n    activation =\\'relu\\'\\n))\\n\\n# Pooling layer #1\\n# Max pooling layer with a 2x2 filter\\nmodel.add(MaxPool2D(pool_size=(2,2)))\\n\\n# Dopout operation; 0.75 probability that element will be kept\\nmodel.add(Dropout(0.25))\\n\\n# Convolutional 2D layer #3\\n# Computes 64 features using a 3x3 filter with ReLU activation.\\nmodel.add(Conv2D(\\n    filters = 64, \\n    kernel_size = (3,3),\\n    padding = \\'Same\\', \\n    activation =\\'relu\\'\\n))\\n\\n# Convolutional 2D layer #4\\n# Computes 64 features using a 3x3 filter with ReLU activation.\\nmodel.add(Conv2D(\\n    filters = 64, \\n    kernel_size = (3,3),\\n    padding = \\'Same\\', \\n    activation =\\'relu\\'\\n))\\n\\n# Pooling layer #1\\n# Max pooling layer with a 2x2 filter and stride of 2\\nmodel.add(MaxPool2D(\\n    pool_size=(2,2), \\n    strides=(2,2)\\n))\\n\\n# Dopout operation; 0.75 probability that element will be kept\\nmodel.add(Dropout(0.25))\\n\\n# Flatten layer \\n# Convert Tensor into a one single 1D vector\\nmodel.add(Flatten())\\n\\n \\n# FULLY CONNECTED LAYERS\\n# = = = = = = = = = = = = = = = = = = = = = = = = = = = = = = = = = = = \\n\\n# Danse layer #1\\n# Densely connected layer with 256 units\\nmodel.add(Dense(\\n    256, \\n    activation = \"relu\"\\n))\\n\\n# Dopout operation; 0.5 probability that element will be kept\\nmodel.add(Dropout(0.5))\\n\\n# Danse layer #2\\n# Densely connected layer with 10 units\\nmodel.add(Dense(\\n    10, \\n    activation = \"softmax\"\\n))'"
      ]
     },
     "execution_count": 73,
     "metadata": {},
     "output_type": "execute_result"
    }
   ],
   "source": [
    "model = Sequential(\n",
    "        [\n",
    "            Conv2D(32, (5,5),activation = \"relu\",padding = 'Same',input_shape = (28,28,1)),\n",
    "            Conv2D(32, (5,5),activation = \"relu\",padding = 'Same'),\n",
    "            MaxPool2D(pool_size = (2, 2)),\n",
    "            Dropout(0.25),\n",
    "            Conv2D(64, (3,3), activation = \"relu\", padding ='Same'),\n",
    "            Conv2D(64, (3,3),activation = \"relu\", padding = 'Same'),\n",
    "            MaxPool2D(pool_size = (2, 2), strides = (2,2)),\n",
    "            Dropout(0.25),\n",
    "            Flatten(),\n",
    "            Dense(units = 128, activation = \"relu\"),\n",
    "            Dense(units = 10, activation = \"sigmoid\")  \n",
    "        ]\n",
    ")\n",
    "\n",
    "\"\"\"# Create model using Keras Sequential API\n",
    "model = Sequential()\n",
    "\n",
    "\n",
    "# CONVOLUTIONAL/MAXPOOL LAYERS\n",
    "# = = = = = = = = = = = = = = = = = = = = = = = = = = = = = = = = = = = \n",
    "\n",
    "# Convolutional 2D layer #1\n",
    "# Computes 32 features using a 5x5 filter with ReLU activation.\n",
    "model.add(Conv2D(\n",
    "    filters = 32, \n",
    "    kernel_size = (5,5),\n",
    "    padding = 'Same', \n",
    "    activation ='relu',\n",
    "    input_shape = (28,28,1)\n",
    "))\n",
    "\n",
    "# Convolutional 2D layer #2\n",
    "# Computes 32 features using a 5x5 filter with ReLU activation.\n",
    "model.add(Conv2D(\n",
    "    filters = 32, \n",
    "    kernel_size = (5,5),\n",
    "    padding = 'Same', \n",
    "    activation ='relu'\n",
    "))\n",
    "\n",
    "# Pooling layer #1\n",
    "# Max pooling layer with a 2x2 filter\n",
    "model.add(MaxPool2D(pool_size=(2,2)))\n",
    "\n",
    "# Dopout operation; 0.75 probability that element will be kept\n",
    "model.add(Dropout(0.25))\n",
    "\n",
    "# Convolutional 2D layer #3\n",
    "# Computes 64 features using a 3x3 filter with ReLU activation.\n",
    "model.add(Conv2D(\n",
    "    filters = 64, \n",
    "    kernel_size = (3,3),\n",
    "    padding = 'Same', \n",
    "    activation ='relu'\n",
    "))\n",
    "\n",
    "# Convolutional 2D layer #4\n",
    "# Computes 64 features using a 3x3 filter with ReLU activation.\n",
    "model.add(Conv2D(\n",
    "    filters = 64, \n",
    "    kernel_size = (3,3),\n",
    "    padding = 'Same', \n",
    "    activation ='relu'\n",
    "))\n",
    "\n",
    "# Pooling layer #1\n",
    "# Max pooling layer with a 2x2 filter and stride of 2\n",
    "model.add(MaxPool2D(\n",
    "    pool_size=(2,2), \n",
    "    strides=(2,2)\n",
    "))\n",
    "\n",
    "# Dopout operation; 0.75 probability that element will be kept\n",
    "model.add(Dropout(0.25))\n",
    "\n",
    "# Flatten layer \n",
    "# Convert Tensor into a one single 1D vector\n",
    "model.add(Flatten())\n",
    "\n",
    " \n",
    "# FULLY CONNECTED LAYERS\n",
    "# = = = = = = = = = = = = = = = = = = = = = = = = = = = = = = = = = = = \n",
    "\n",
    "# Danse layer #1\n",
    "# Densely connected layer with 256 units\n",
    "model.add(Dense(\n",
    "    256, \n",
    "    activation = \"relu\"\n",
    "))\n",
    "\n",
    "# Dopout operation; 0.5 probability that element will be kept\n",
    "model.add(Dropout(0.5))\n",
    "\n",
    "# Danse layer #2\n",
    "# Densely connected layer with 10 units\n",
    "model.add(Dense(\n",
    "    10, \n",
    "    activation = \"softmax\"\n",
    "))\"\"\""
   ]
  },
  {
   "cell_type": "markdown",
   "metadata": {},
   "source": [
    "## 3.2 Compilation"
   ]
  },
  {
   "cell_type": "code",
   "execution_count": 74,
   "metadata": {},
   "outputs": [],
   "source": [
    "model.compile(loss='categorical_crossentropy',\n",
    "              optimizer=\"adam\",\n",
    "              metrics=['accuracy'])"
   ]
  },
  {
   "cell_type": "markdown",
   "metadata": {},
   "source": [
    "# 4. Training"
   ]
  },
  {
   "cell_type": "code",
   "execution_count": null,
   "metadata": {},
   "outputs": [
    {
     "name": "stdout",
     "output_type": "stream",
     "text": [
      "Epoch 1/10\n",
      "262/262 [==============================] - 267s 1s/step - loss: 0.4639 - acc: 0.8513 - val_loss: 0.0763 - val_acc: 0.9758\n",
      "Epoch 2/10\n",
      "262/262 [==============================] - 283s 1s/step - loss: 0.1333 - acc: 0.9598 - val_loss: 0.0604 - val_acc: 0.9812\n",
      "Epoch 3/10\n",
      "262/262 [==============================] - 286s 1s/step - loss: 0.1008 - acc: 0.9691 - val_loss: 0.0546 - val_acc: 0.9833\n",
      "Epoch 4/10\n",
      "262/262 [==============================] - 296s 1s/step - loss: 0.0772 - acc: 0.9770 - val_loss: 0.0409 - val_acc: 0.9870\n",
      "Epoch 5/10\n",
      "262/262 [==============================] - 275s 1s/step - loss: 0.0685 - acc: 0.9790 - val_loss: 0.0303 - val_acc: 0.9908\n",
      "Epoch 6/10\n",
      "262/262 [==============================] - 258s 985ms/step - loss: 0.0599 - acc: 0.9818 - val_loss: 0.0290 - val_acc: 0.9911\n",
      "Epoch 7/10\n",
      "262/262 [==============================] - 262s 1s/step - loss: 0.0527 - acc: 0.9839 - val_loss: 0.0338 - val_acc: 0.9890\n",
      "Epoch 8/10\n",
      "262/262 [==============================] - 292s 1s/step - loss: 0.0484 - acc: 0.9853 - val_loss: 0.0274 - val_acc: 0.9915\n",
      "Epoch 9/10\n",
      "262/262 [==============================] - 273s 1s/step - loss: 0.0455 - acc: 0.9857 - val_loss: 0.0298 - val_acc: 0.9905\n",
      "Epoch 10/10\n",
      "261/262 [============================>.] - ETA: 0s - loss: 0.0458 - acc: 0.9859"
     ]
    }
   ],
   "source": [
    "model.fit_generator(\n",
    "    igd.flow(X_train, Y_train, batch_size = 128),\n",
    "    epochs = 10,\n",
    "    steps_per_epoch = X_train.shape[0] // 128,\n",
    "    validation_data = (X_valid, Y_valid)\n",
    "    )"
   ]
  },
  {
   "cell_type": "markdown",
   "metadata": {},
   "source": [
    "# Saving a model"
   ]
  },
  {
   "cell_type": "code",
   "execution_count": 67,
   "metadata": {},
   "outputs": [],
   "source": [
    "tfjs.converters.save_keras_model(model, '../model')"
   ]
  },
  {
   "cell_type": "code",
   "execution_count": null,
   "metadata": {},
   "outputs": [],
   "source": []
  }
 ],
 "metadata": {
  "kernelspec": {
   "display_name": "Python 3",
   "language": "python",
   "name": "python3"
  },
  "language_info": {
   "codemirror_mode": {
    "name": "ipython",
    "version": 3
   },
   "file_extension": ".py",
   "mimetype": "text/x-python",
   "name": "python",
   "nbconvert_exporter": "python",
   "pygments_lexer": "ipython3",
   "version": "3.6.5"
  }
 },
 "nbformat": 4,
 "nbformat_minor": 2
}
