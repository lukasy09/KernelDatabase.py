{
 "cells": [
  {
   "cell_type": "markdown",
   "metadata": {},
   "source": [
    "# 1. Imports of necessary libraries"
   ]
  },
  {
   "cell_type": "code",
   "execution_count": 50,
   "metadata": {},
   "outputs": [],
   "source": [
    "import keras #High level interface of TensorFlow\n",
    "from keras.models import Sequential\n",
    "from keras.models import load_model\n",
    "from keras.preprocessing.image import ImageDataGenerator,load_img,img_to_array\n",
    "from keras.layers import Dense, Dropout, Flatten, Conv2D, MaxPool2D\n",
    "from keras.utils.np_utils import to_categorical \n",
    "import numpy as np \n",
    "import matplotlib.pyplot as plt\n",
    "from PIL import Image\n",
    "from keras.optimizers import RMSprop\n",
    "import tensorflowjs as tfjs\n",
    "import pandas as pd\n",
    "from sklearn.model_selection import train_test_split"
   ]
  },
  {
   "cell_type": "markdown",
   "metadata": {},
   "source": [
    "# 2.Data importing& preprocessing"
   ]
  },
  {
   "cell_type": "markdown",
   "metadata": {},
   "source": [
    "## 2.1 Importing and entry processing"
   ]
  },
  {
   "cell_type": "code",
   "execution_count": 51,
   "metadata": {},
   "outputs": [],
   "source": [
    "train_set = pd.read_csv(\"../data/train.csv\") # raw data\n",
    "\n",
    "# DV\n",
    "Y_train = train_set[\"label\"]\n",
    "# IV\n",
    "X_train = train_set.drop(labels = [\"label\"], axis = 1)\n",
    "#X_train"
   ]
  },
  {
   "cell_type": "markdown",
   "metadata": {},
   "source": [
    "## 2.2Normalization to [0-1]  range"
   ]
  },
  {
   "cell_type": "code",
   "execution_count": 52,
   "metadata": {},
   "outputs": [],
   "source": [
    "X_train = X_train / 255.0\n",
    "\n",
    "\n",
    "X_train = X_train.values.reshape(-1,28,28,1)\n",
    "\n",
    "Y_train = to_categorical(Y_train, num_classes = 10)"
   ]
  },
  {
   "cell_type": "markdown",
   "metadata": {},
   "source": [
    "## 2.3Data spliting into train & valid set "
   ]
  },
  {
   "cell_type": "code",
   "execution_count": 53,
   "metadata": {},
   "outputs": [],
   "source": [
    "X_train, X_valid , Y_train , Y_valid = train_test_split(X_train, Y_train, test_size = 0.2, random_state = 42)"
   ]
  },
  {
   "cell_type": "markdown",
   "metadata": {},
   "source": [
    "## 2.4 Augmentation"
   ]
  },
  {
   "cell_type": "code",
   "execution_count": 54,
   "metadata": {},
   "outputs": [],
   "source": [
    "igd = ImageDataGenerator(\n",
    "    featurewise_center=False,\n",
    "    samplewise_center=False,\n",
    "    featurewise_std_normalization=False,\n",
    "    samplewise_std_normalization=False,\n",
    "    zca_whitening=False,\n",
    "    rotation_range=10,\n",
    "    zoom_range = 0.1,\n",
    "    width_shift_range=0.1,\n",
    "    height_shift_range=0.1,\n",
    "    horizontal_flip=False,\n",
    "    vertical_flip=False\n",
    ")\n",
    "\n",
    "igd.fit(X_train)"
   ]
  },
  {
   "cell_type": "markdown",
   "metadata": {},
   "source": [
    "# 3. Building the architecture of Keras model & Compilation"
   ]
  },
  {
   "cell_type": "markdown",
   "metadata": {},
   "source": [
    "## 3.1 Architecture"
   ]
  },
  {
   "cell_type": "code",
   "execution_count": 55,
   "metadata": {},
   "outputs": [
    {
     "data": {
      "text/plain": [
       "'# Create model using Keras Sequential API\\nmodel = Sequential()\\n\\n\\n# CONVOLUTIONAL/MAXPOOL LAYERS\\n# = = = = = = = = = = = = = = = = = = = = = = = = = = = = = = = = = = = \\n\\n# Convolutional 2D layer #1\\n# Computes 32 features using a 5x5 filter with ReLU activation.\\nmodel.add(Conv2D(\\n    filters = 32, \\n    kernel_size = (5,5),\\n    padding = \\'Same\\', \\n    activation =\\'relu\\',\\n    input_shape = (28,28,1)\\n))\\n\\n# Convolutional 2D layer #2\\n# Computes 32 features using a 5x5 filter with ReLU activation.\\nmodel.add(Conv2D(\\n    filters = 32, \\n    kernel_size = (5,5),\\n    padding = \\'Same\\', \\n    activation =\\'relu\\'\\n))\\n\\n# Pooling layer #1\\n# Max pooling layer with a 2x2 filter\\nmodel.add(MaxPool2D(pool_size=(2,2)))\\n\\n# Dopout operation; 0.75 probability that element will be kept\\nmodel.add(Dropout(0.25))\\n\\n# Convolutional 2D layer #3\\n# Computes 64 features using a 3x3 filter with ReLU activation.\\nmodel.add(Conv2D(\\n    filters = 64, \\n    kernel_size = (3,3),\\n    padding = \\'Same\\', \\n    activation =\\'relu\\'\\n))\\n\\n# Convolutional 2D layer #4\\n# Computes 64 features using a 3x3 filter with ReLU activation.\\nmodel.add(Conv2D(\\n    filters = 64, \\n    kernel_size = (3,3),\\n    padding = \\'Same\\', \\n    activation =\\'relu\\'\\n))\\n\\n# Pooling layer #1\\n# Max pooling layer with a 2x2 filter and stride of 2\\nmodel.add(MaxPool2D(\\n    pool_size=(2,2), \\n    strides=(2,2)\\n))\\n\\n# Dopout operation; 0.75 probability that element will be kept\\nmodel.add(Dropout(0.25))\\n\\n# Flatten layer \\n# Convert Tensor into a one single 1D vector\\nmodel.add(Flatten())\\n\\n \\n# FULLY CONNECTED LAYERS\\n# = = = = = = = = = = = = = = = = = = = = = = = = = = = = = = = = = = = \\n\\n# Danse layer #1\\n# Densely connected layer with 256 units\\nmodel.add(Dense(\\n    256, \\n    activation = \"relu\"\\n))\\n\\n# Dopout operation; 0.5 probability that element will be kept\\nmodel.add(Dropout(0.5))\\n\\n# Danse layer #2\\n# Densely connected layer with 10 units\\nmodel.add(Dense(\\n    10, \\n    activation = \"softmax\"\\n))'"
      ]
     },
     "execution_count": 55,
     "metadata": {},
     "output_type": "execute_result"
    }
   ],
   "source": [
    "model = Sequential(\n",
    "        [\n",
    "            Conv2D(32, (3,3),activation = \"relu\",padding = 'Same',input_shape = (28,28,1)),\n",
    "            Conv2D(32, (3,3),activation = \"relu\",padding = 'Same'),\n",
    "            MaxPool2D(pool_size = (2, 2)),\n",
    "            Dropout(0.2),\n",
    "            Conv2D(32, (3,3), activation = \"relu\", padding ='Same'),\n",
    "            Conv2D(32, (3,3),activation = \"relu\", padding = 'Same'),\n",
    "            MaxPool2D(pool_size = (2, 2), strides = (2,2)),\n",
    "            Dropout(0.25),\n",
    "            Flatten(),\n",
    "            Dense(units = 64, activation = \"relu\"),\n",
    "            Dense(units = 10, activation = \"sigmoid\")  \n",
    "        ]\n",
    ")\n",
    "\n",
    "\"\"\"# Create model using Keras Sequential API\n",
    "model = Sequential()\n",
    "\n",
    "\n",
    "# CONVOLUTIONAL/MAXPOOL LAYERS\n",
    "# = = = = = = = = = = = = = = = = = = = = = = = = = = = = = = = = = = = \n",
    "\n",
    "# Convolutional 2D layer #1\n",
    "# Computes 32 features using a 5x5 filter with ReLU activation.\n",
    "model.add(Conv2D(\n",
    "    filters = 32, \n",
    "    kernel_size = (5,5),\n",
    "    padding = 'Same', \n",
    "    activation ='relu',\n",
    "    input_shape = (28,28,1)\n",
    "))\n",
    "\n",
    "# Convolutional 2D layer #2\n",
    "# Computes 32 features using a 5x5 filter with ReLU activation.\n",
    "model.add(Conv2D(\n",
    "    filters = 32, \n",
    "    kernel_size = (5,5),\n",
    "    padding = 'Same', \n",
    "    activation ='relu'\n",
    "))\n",
    "\n",
    "# Pooling layer #1\n",
    "# Max pooling layer with a 2x2 filter\n",
    "model.add(MaxPool2D(pool_size=(2,2)))\n",
    "\n",
    "# Dopout operation; 0.75 probability that element will be kept\n",
    "model.add(Dropout(0.25))\n",
    "\n",
    "# Convolutional 2D layer #3\n",
    "# Computes 64 features using a 3x3 filter with ReLU activation.\n",
    "model.add(Conv2D(\n",
    "    filters = 64, \n",
    "    kernel_size = (3,3),\n",
    "    padding = 'Same', \n",
    "    activation ='relu'\n",
    "))\n",
    "\n",
    "# Convolutional 2D layer #4\n",
    "# Computes 64 features using a 3x3 filter with ReLU activation.\n",
    "model.add(Conv2D(\n",
    "    filters = 64, \n",
    "    kernel_size = (3,3),\n",
    "    padding = 'Same', \n",
    "    activation ='relu'\n",
    "))\n",
    "\n",
    "# Pooling layer #1\n",
    "# Max pooling layer with a 2x2 filter and stride of 2\n",
    "model.add(MaxPool2D(\n",
    "    pool_size=(2,2), \n",
    "    strides=(2,2)\n",
    "))\n",
    "\n",
    "# Dopout operation; 0.75 probability that element will be kept\n",
    "model.add(Dropout(0.25))\n",
    "\n",
    "# Flatten layer \n",
    "# Convert Tensor into a one single 1D vector\n",
    "model.add(Flatten())\n",
    "\n",
    " \n",
    "# FULLY CONNECTED LAYERS\n",
    "# = = = = = = = = = = = = = = = = = = = = = = = = = = = = = = = = = = = \n",
    "\n",
    "# Danse layer #1\n",
    "# Densely connected layer with 256 units\n",
    "model.add(Dense(\n",
    "    256, \n",
    "    activation = \"relu\"\n",
    "))\n",
    "\n",
    "# Dopout operation; 0.5 probability that element will be kept\n",
    "model.add(Dropout(0.5))\n",
    "\n",
    "# Danse layer #2\n",
    "# Densely connected layer with 10 units\n",
    "model.add(Dense(\n",
    "    10, \n",
    "    activation = \"softmax\"\n",
    "))\"\"\""
   ]
  },
  {
   "cell_type": "markdown",
   "metadata": {},
   "source": [
    "## 3.2 Compilation"
   ]
  },
  {
   "cell_type": "code",
   "execution_count": 56,
   "metadata": {},
   "outputs": [],
   "source": [
    "model.compile(loss='categorical_crossentropy',\n",
    "              optimizer=\"adam\",\n",
    "              metrics=['accuracy'])"
   ]
  },
  {
   "cell_type": "markdown",
   "metadata": {},
   "source": [
    "# 4. Training"
   ]
  },
  {
   "cell_type": "code",
   "execution_count": 57,
   "metadata": {},
   "outputs": [
    {
     "name": "stdout",
     "output_type": "stream",
     "text": [
      "Epoch 1/10\n",
      "262/262 [==============================] - 126s 482ms/step - loss: 0.6353 - acc: 0.7934 - val_loss: 0.1007 - val_acc: 0.9714\n",
      "Epoch 2/10\n",
      "262/262 [==============================] - 134s 513ms/step - loss: 0.1816 - acc: 0.9449 - val_loss: 0.0742 - val_acc: 0.9782\n",
      "Epoch 3/10\n",
      "262/262 [==============================] - 136s 520ms/step - loss: 0.1308 - acc: 0.9605 - val_loss: 0.0538 - val_acc: 0.9837\n",
      "Epoch 4/10\n",
      "262/262 [==============================] - 132s 504ms/step - loss: 0.1039 - acc: 0.9675 - val_loss: 0.0514 - val_acc: 0.9849\n",
      "Epoch 5/10\n",
      "262/262 [==============================] - 129s 492ms/step - loss: 0.0879 - acc: 0.9730 - val_loss: 0.0400 - val_acc: 0.9882\n",
      "Epoch 6/10\n",
      "262/262 [==============================] - 127s 485ms/step - loss: 0.0791 - acc: 0.9759 - val_loss: 0.0345 - val_acc: 0.9880\n",
      "Epoch 7/10\n",
      "262/262 [==============================] - 128s 490ms/step - loss: 0.0704 - acc: 0.9784 - val_loss: 0.0331 - val_acc: 0.9896\n",
      "Epoch 8/10\n",
      "262/262 [==============================] - 127s 486ms/step - loss: 0.0670 - acc: 0.9792 - val_loss: 0.0324 - val_acc: 0.9895\n",
      "Epoch 9/10\n",
      "262/262 [==============================] - 130s 498ms/step - loss: 0.0627 - acc: 0.9803 - val_loss: 0.0273 - val_acc: 0.9908\n",
      "Epoch 10/10\n",
      "262/262 [==============================] - 125s 478ms/step - loss: 0.0575 - acc: 0.9820 - val_loss: 0.0274 - val_acc: 0.9918\n"
     ]
    },
    {
     "data": {
      "text/plain": [
       "<keras.callbacks.History at 0x5c95135f60>"
      ]
     },
     "execution_count": 57,
     "metadata": {},
     "output_type": "execute_result"
    }
   ],
   "source": [
    "model.fit_generator(\n",
    "    igd.flow(X_train, Y_train, batch_size = 128),\n",
    "    epochs = 10,\n",
    "    steps_per_epoch = X_train.shape[0] // 128,\n",
    "    validation_data = (X_valid, Y_valid)\n",
    "    )"
   ]
  },
  {
   "cell_type": "markdown",
   "metadata": {},
   "source": [
    "# Saving a model"
   ]
  },
  {
   "cell_type": "code",
   "execution_count": 49,
   "metadata": {},
   "outputs": [],
   "source": [
    "tfjs.converters.save_keras_model(model, '../model')"
   ]
  },
  {
   "cell_type": "code",
   "execution_count": null,
   "metadata": {},
   "outputs": [],
   "source": []
  }
 ],
 "metadata": {
  "kernelspec": {
   "display_name": "Python 3",
   "language": "python",
   "name": "python3"
  },
  "language_info": {
   "codemirror_mode": {
    "name": "ipython",
    "version": 3
   },
   "file_extension": ".py",
   "mimetype": "text/x-python",
   "name": "python",
   "nbconvert_exporter": "python",
   "pygments_lexer": "ipython3",
   "version": "3.6.5"
  }
 },
 "nbformat": 4,
 "nbformat_minor": 2
}
