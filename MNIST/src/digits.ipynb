{
 "cells": [
  {
   "cell_type": "markdown",
   "metadata": {},
   "source": [
    "# 1. Imports of necessary libraries"
   ]
  },
  {
   "cell_type": "code",
   "execution_count": 77,
   "metadata": {},
   "outputs": [],
   "source": [
    "import keras #High level interface of TensorFlow\n",
    "from keras.models import Sequential\n",
    "from keras.models import load_model\n",
    "from keras.preprocessing.image import ImageDataGenerator,load_img,img_to_array\n",
    "from keras.layers import Dense, Dropout, Flatten, Conv2D, MaxPool2D\n",
    "from keras.utils.np_utils import to_categorical \n",
    "import numpy as np \n",
    "import matplotlib.pyplot as plt\n",
    "from PIL import Image\n",
    "from keras.optimizers import RMSprop\n",
    "import tensorflowjs as tfjs\n",
    "import pandas as pd\n",
    "from sklearn.model_selection import train_test_split"
   ]
  },
  {
   "cell_type": "markdown",
   "metadata": {},
   "source": [
    "# 2.Data importing& preprocessing"
   ]
  },
  {
   "cell_type": "markdown",
   "metadata": {},
   "source": [
    "## 2.1 Importing and entry processing"
   ]
  },
  {
   "cell_type": "code",
   "execution_count": 78,
   "metadata": {},
   "outputs": [],
   "source": [
    "train_set = pd.read_csv(\"../data/train.csv\") # raw data\n",
    "\n",
    "# DV\n",
    "Y_train = train_set[\"label\"]\n",
    "# IV\n",
    "X_train = train_set.drop(labels = [\"label\"], axis = 1)\n",
    "#X_train"
   ]
  },
  {
   "cell_type": "markdown",
   "metadata": {},
   "source": [
    "## 2.2Normalization to [0-1]  range"
   ]
  },
  {
   "cell_type": "code",
   "execution_count": 79,
   "metadata": {},
   "outputs": [],
   "source": [
    "X_train = X_train / 255.0\n",
    "\n",
    "\n",
    "X_train = X_train.values.reshape(-1,28,28,1)\n",
    "\n",
    "Y_train = to_categorical(Y_train, num_classes = 10)"
   ]
  },
  {
   "cell_type": "markdown",
   "metadata": {},
   "source": [
    "## 2.3Data spliting into train & valid set "
   ]
  },
  {
   "cell_type": "code",
   "execution_count": 80,
   "metadata": {},
   "outputs": [],
   "source": [
    "X_train, X_valid , Y_train , Y_valid = train_test_split(X_train, Y_train, test_size = 0.2, random_state = 42)"
   ]
  },
  {
   "cell_type": "markdown",
   "metadata": {},
   "source": [
    "## 2.4 Augmentation"
   ]
  },
  {
   "cell_type": "code",
   "execution_count": 81,
   "metadata": {},
   "outputs": [],
   "source": [
    "igd = ImageDataGenerator(\n",
    "    featurewise_center=False,\n",
    "    samplewise_center=False,\n",
    "    featurewise_std_normalization=False,\n",
    "    samplewise_std_normalization=False,\n",
    "    zca_whitening=False,\n",
    "    rotation_range=10,\n",
    "    zoom_range = 0.1,\n",
    "    width_shift_range=0.1,\n",
    "    height_shift_range=0.1,\n",
    "    horizontal_flip=False,\n",
    "    vertical_flip=False\n",
    ")\n",
    "\n",
    "igd.fit(X_train)"
   ]
  },
  {
   "cell_type": "markdown",
   "metadata": {},
   "source": [
    "# 3. Building the architecture of Keras model & Compilation"
   ]
  },
  {
   "cell_type": "markdown",
   "metadata": {},
   "source": [
    "## 3.1 Architecture"
   ]
  },
  {
   "cell_type": "code",
   "execution_count": 85,
   "metadata": {},
   "outputs": [
    {
     "data": {
      "text/plain": [
       "'# Create model using Keras Sequential API\\nmodel = Sequential()\\n\\n\\n# CONVOLUTIONAL/MAXPOOL LAYERS\\n# = = = = = = = = = = = = = = = = = = = = = = = = = = = = = = = = = = = \\n\\n# Convolutional 2D layer #1\\n# Computes 32 features using a 5x5 filter with ReLU activation.\\nmodel.add(Conv2D(\\n    filters = 32, \\n    kernel_size = (5,5),\\n    padding = \\'Same\\', \\n    activation =\\'relu\\',\\n    input_shape = (28,28,1)\\n))\\n\\n# Convolutional 2D layer #2\\n# Computes 32 features using a 5x5 filter with ReLU activation.\\nmodel.add(Conv2D(\\n    filters = 32, \\n    kernel_size = (5,5),\\n    padding = \\'Same\\', \\n    activation =\\'relu\\'\\n))\\n\\n# Pooling layer #1\\n# Max pooling layer with a 2x2 filter\\nmodel.add(MaxPool2D(pool_size=(2,2)))\\n\\n# Dopout operation; 0.75 probability that element will be kept\\nmodel.add(Dropout(0.25))\\n\\n# Convolutional 2D layer #3\\n# Computes 64 features using a 3x3 filter with ReLU activation.\\nmodel.add(Conv2D(\\n    filters = 64, \\n    kernel_size = (3,3),\\n    padding = \\'Same\\', \\n    activation =\\'relu\\'\\n))\\n\\n# Convolutional 2D layer #4\\n# Computes 64 features using a 3x3 filter with ReLU activation.\\nmodel.add(Conv2D(\\n    filters = 64, \\n    kernel_size = (3,3),\\n    padding = \\'Same\\', \\n    activation =\\'relu\\'\\n))\\n\\n# Pooling layer #1\\n# Max pooling layer with a 2x2 filter and stride of 2\\nmodel.add(MaxPool2D(\\n    pool_size=(2,2), \\n    strides=(2,2)\\n))\\n\\n# Dopout operation; 0.75 probability that element will be kept\\nmodel.add(Dropout(0.25))\\n\\n# Flatten layer \\n# Convert Tensor into a one single 1D vector\\nmodel.add(Flatten())\\n\\n \\n# FULLY CONNECTED LAYERS\\n# = = = = = = = = = = = = = = = = = = = = = = = = = = = = = = = = = = = \\n\\n# Danse layer #1\\n# Densely connected layer with 256 units\\nmodel.add(Dense(\\n    256, \\n    activation = \"relu\"\\n))\\n\\n# Dopout operation; 0.5 probability that element will be kept\\nmodel.add(Dropout(0.5))\\n\\n# Danse layer #2\\n# Densely connected layer with 10 units\\nmodel.add(Dense(\\n    10, \\n    activation = \"softmax\"\\n))'"
      ]
     },
     "execution_count": 85,
     "metadata": {},
     "output_type": "execute_result"
    }
   ],
   "source": [
    "model = Sequential(\n",
    "        [\n",
    "            Conv2D(32, (5,5),activation = \"relu\",padding = 'Same',input_shape = (28,28,1)),\n",
    "            Conv2D(32, (5,5),activation = \"relu\",padding = 'Same'),\n",
    "            MaxPool2D(pool_size = (2, 2)),\n",
    "            Dropout(0.25),\n",
    "            Conv2D(64, (3,3), activation = \"relu\", padding ='Same'),\n",
    "            Conv2D(64, (3,3),activation = \"relu\", padding = 'Same'),\n",
    "            MaxPool2D(pool_size = (2, 2), strides = (2,2)),\n",
    "            Dropout(0.25),\n",
    "            Flatten(),\n",
    "            Dense(units = 256, activation = \"relu\"),\n",
    "            Dense(units = 10, activation = \"softmax\") ])"
   ]
  },
  {
   "cell_type": "markdown",
   "metadata": {},
   "source": [
    "## 3.2 Compilation"
   ]
  },
  {
   "cell_type": "code",
   "execution_count": 86,
   "metadata": {},
   "outputs": [],
   "source": [
    "model.compile(loss='categorical_crossentropy',\n",
    "              optimizer=\"adam\",\n",
    "              metrics=['accuracy'])"
   ]
  },
  {
   "cell_type": "markdown",
   "metadata": {},
   "source": [
    "# 4. Training"
   ]
  },
  {
   "cell_type": "code",
   "execution_count": 87,
   "metadata": {},
   "outputs": [
    {
     "name": "stdout",
     "output_type": "stream",
     "text": [
      "Epoch 1/30\n",
      "262/262 [==============================] - 276s 1s/step - loss: 0.4067 - acc: 0.8708 - val_loss: 0.0626 - val_acc: 0.9811\n",
      "Epoch 2/30\n",
      "262/262 [==============================] - 268s 1s/step - loss: 0.1135 - acc: 0.9652 - val_loss: 0.0475 - val_acc: 0.9856\n",
      "Epoch 3/30\n",
      "262/262 [==============================] - 257s 980ms/step - loss: 0.0820 - acc: 0.9737 - val_loss: 0.0405 - val_acc: 0.9874\n",
      "Epoch 4/30\n",
      "262/262 [==============================] - 259s 987ms/step - loss: 0.0677 - acc: 0.9789 - val_loss: 0.0377 - val_acc: 0.9886\n",
      "Epoch 5/30\n",
      "262/262 [==============================] - 259s 989ms/step - loss: 0.0614 - acc: 0.9806 - val_loss: 0.0410 - val_acc: 0.9862\n",
      "Epoch 6/30\n",
      "262/262 [==============================] - 261s 998ms/step - loss: 0.0503 - acc: 0.9842 - val_loss: 0.0318 - val_acc: 0.9907\n",
      "Epoch 7/30\n",
      "262/262 [==============================] - 262s 999ms/step - loss: 0.0456 - acc: 0.9860 - val_loss: 0.0281 - val_acc: 0.9912\n",
      "Epoch 8/30\n",
      "262/262 [==============================] - 262s 1s/step - loss: 0.0455 - acc: 0.9862 - val_loss: 0.0311 - val_acc: 0.9895\n",
      "Epoch 9/30\n",
      "262/262 [==============================] - 261s 998ms/step - loss: 0.0427 - acc: 0.9866 - val_loss: 0.0288 - val_acc: 0.9910\n",
      "Epoch 10/30\n",
      "262/262 [==============================] - 258s 985ms/step - loss: 0.0378 - acc: 0.9878 - val_loss: 0.0236 - val_acc: 0.9931\n",
      "Epoch 11/30\n",
      "262/262 [==============================] - 260s 992ms/step - loss: 0.0346 - acc: 0.9891 - val_loss: 0.0268 - val_acc: 0.9915\n",
      "Epoch 12/30\n",
      "262/262 [==============================] - 261s 996ms/step - loss: 0.0372 - acc: 0.9884 - val_loss: 0.0267 - val_acc: 0.9915\n",
      "Epoch 13/30\n",
      "262/262 [==============================] - 260s 993ms/step - loss: 0.0312 - acc: 0.9904 - val_loss: 0.0214 - val_acc: 0.9930\n",
      "Epoch 14/30\n",
      "262/262 [==============================] - 260s 994ms/step - loss: 0.0300 - acc: 0.9904 - val_loss: 0.0228 - val_acc: 0.9931\n",
      "Epoch 15/30\n",
      "262/262 [==============================] - 259s 989ms/step - loss: 0.0325 - acc: 0.9896 - val_loss: 0.0280 - val_acc: 0.9907\n",
      "Epoch 16/30\n",
      "262/262 [==============================] - 260s 993ms/step - loss: 0.0283 - acc: 0.9909 - val_loss: 0.0230 - val_acc: 0.9933\n",
      "Epoch 17/30\n",
      "262/262 [==============================] - 260s 992ms/step - loss: 0.0290 - acc: 0.9908 - val_loss: 0.0242 - val_acc: 0.9925\n",
      "Epoch 18/30\n",
      "262/262 [==============================] - 257s 982ms/step - loss: 0.0284 - acc: 0.9914 - val_loss: 0.0295 - val_acc: 0.9911\n",
      "Epoch 19/30\n",
      "262/262 [==============================] - 259s 988ms/step - loss: 0.0258 - acc: 0.9918 - val_loss: 0.0225 - val_acc: 0.9929\n",
      "Epoch 20/30\n",
      "262/262 [==============================] - 263s 1s/step - loss: 0.0248 - acc: 0.9923 - val_loss: 0.0210 - val_acc: 0.9942\n",
      "Epoch 21/30\n",
      "262/262 [==============================] - 264s 1s/step - loss: 0.0232 - acc: 0.9929 - val_loss: 0.0269 - val_acc: 0.9915\n",
      "Epoch 22/30\n",
      "262/262 [==============================] - 259s 989ms/step - loss: 0.0253 - acc: 0.9922 - val_loss: 0.0200 - val_acc: 0.9938\n",
      "Epoch 23/30\n",
      "262/262 [==============================] - 257s 982ms/step - loss: 0.0237 - acc: 0.9921 - val_loss: 0.0206 - val_acc: 0.9933\n",
      "Epoch 24/30\n",
      "262/262 [==============================] - 256s 978ms/step - loss: 0.0223 - acc: 0.9927 - val_loss: 0.0231 - val_acc: 0.9932\n",
      "Epoch 25/30\n",
      "262/262 [==============================] - 255s 974ms/step - loss: 0.0219 - acc: 0.9932 - val_loss: 0.0211 - val_acc: 0.9932\n",
      "Epoch 26/30\n",
      "262/262 [==============================] - 258s 986ms/step - loss: 0.0194 - acc: 0.9937 - val_loss: 0.0255 - val_acc: 0.9932\n",
      "Epoch 27/30\n",
      "262/262 [==============================] - 257s 980ms/step - loss: 0.0194 - acc: 0.9942 - val_loss: 0.0209 - val_acc: 0.9937\n",
      "Epoch 28/30\n",
      "262/262 [==============================] - 258s 985ms/step - loss: 0.0231 - acc: 0.9928 - val_loss: 0.0269 - val_acc: 0.9929\n",
      "Epoch 29/30\n",
      "262/262 [==============================] - 260s 991ms/step - loss: 0.0218 - acc: 0.9935 - val_loss: 0.0249 - val_acc: 0.9932\n",
      "Epoch 30/30\n",
      "262/262 [==============================] - 260s 991ms/step - loss: 0.0192 - acc: 0.9939 - val_loss: 0.0234 - val_acc: 0.9929\n"
     ]
    },
    {
     "data": {
      "text/plain": [
       "<keras.callbacks.History at 0x5c98909198>"
      ]
     },
     "execution_count": 87,
     "metadata": {},
     "output_type": "execute_result"
    }
   ],
   "source": [
    "model.fit_generator(\n",
    "    igd.flow(X_train, Y_train, batch_size = 128),\n",
    "    epochs = 30,\n",
    "    steps_per_epoch = X_train.shape[0] // 128,\n",
    "    validation_data = (X_valid, Y_valid)\n",
    "    )"
   ]
  },
  {
   "cell_type": "markdown",
   "metadata": {},
   "source": [
    "# Saving a model"
   ]
  },
  {
   "cell_type": "code",
   "execution_count": 88,
   "metadata": {},
   "outputs": [],
   "source": [
    "tfjs.converters.save_keras_model(model, '../model')"
   ]
  },
  {
   "cell_type": "code",
   "execution_count": null,
   "metadata": {},
   "outputs": [],
   "source": []
  }
 ],
 "metadata": {
  "kernelspec": {
   "display_name": "Python 3",
   "language": "python",
   "name": "python3"
  },
  "language_info": {
   "codemirror_mode": {
    "name": "ipython",
    "version": 3
   },
   "file_extension": ".py",
   "mimetype": "text/x-python",
   "name": "python",
   "nbconvert_exporter": "python",
   "pygments_lexer": "ipython3",
   "version": "3.6.5"
  }
 },
 "nbformat": 4,
 "nbformat_minor": 2
}
