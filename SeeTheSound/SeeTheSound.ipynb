{
 "cells": [
  {
   "cell_type": "markdown",
   "metadata": {},
   "source": [
    "# 1. Introduction"
   ]
  },
  {
   "cell_type": "markdown",
   "metadata": {},
   "source": [
    "### 1.1 What is this about?"
   ]
  },
  {
   "cell_type": "markdown",
   "metadata": {},
   "source": [
    "In this kernel I'm going to try visualise `the look` of a sound. Particularly what spectrograms(and much more!) and other of dogs' & cats' voice look like. I'll extract their features and try to visualise them 2D's and 3D's plots.  "
   ]
  },
  {
   "cell_type": "markdown",
   "metadata": {},
   "source": [
    "We will check if it is possible to distinguish the voice by looking at a picture. We will `SeeTheSound`."
   ]
  },
  {
   "cell_type": "code",
   "execution_count": 25,
   "metadata": {},
   "outputs": [
    {
     "data": {
      "text/html": [
       "    <ul style = 'list-style-type:none; display:inline-block; text-align:center'>    <li style = 'float:left'>        <ul style='list-style-type: none'>            <li><h3>Cat</h3></li>            <li><img src = 'data/images/cat/mfcc_2.png'/></li>         </ul>    </li>     <li style = 'float:left'>        <ul style='list-style-type: none'>            <li><h3>Dog</h3></li>            <li><img src = 'data/images/dog/mfcc_4.png'/></li>         </ul>    </li>    <li style = 'float:left'>        <ul style='list-style-type: none'>            <li><h3>Cat</h3></li>            <li><img src = 'data/images/cat/mfcc_1.png'/></li>         </ul>    </li>    <li style = 'float:left'>        <ul style='list-style-type: none'>            <li><h3>Dog</h3></li>            <li><img src = 'data/images/dog/mfcc_6.png'/></li>         </ul>    </li>    <ul>     </ul>"
      ],
      "text/plain": [
       "<IPython.core.display.HTML object>"
      ]
     },
     "metadata": {},
     "output_type": "display_data"
    },
    {
     "data": {
      "text/html": [
       "<script>\n",
       "code_show=true; \n",
       "function code_toggle() {\n",
       " if (code_show){\n",
       " $('div.input').hide();\n",
       " } else {\n",
       " $('div.input').show();\n",
       " }\n",
       " code_show = !code_show\n",
       "} \n",
       "$( document ).ready(code_toggle);\n",
       "</script>\n",
       "The raw code for this IPython notebook is by default hidden for easier reading.\n",
       "To toggle on/off the raw code, click <a href=\"javascript:code_toggle()\">here</a>."
      ],
      "text/plain": [
       "<IPython.core.display.HTML object>"
      ]
     },
     "execution_count": 25,
     "metadata": {},
     "output_type": "execute_result"
    }
   ],
   "source": [
    "display(HTML(\"\\\n",
    "    <ul style = 'list-style-type:none; display:inline-block; text-align:center'>\\\n",
    "    <li style = 'float:left'>\\\n",
    "        <ul style='list-style-type: none'>\\\n",
    "            <li><h3>Cat</h3></li>\\\n",
    "            <li><img src = 'data/images/cat/mfcc_2.png'/></li> \\\n",
    "        </ul>\\\n",
    "    </li>\\\n",
    "     <li style = 'float:left'>\\\n",
    "        <ul style='list-style-type: none'>\\\n",
    "            <li><h3>Dog</h3></li>\\\n",
    "            <li><img src = 'data/images/dog/mfcc_4.png'/></li> \\\n",
    "        </ul>\\\n",
    "    </li>\\\n",
    "    <li style = 'float:left'>\\\n",
    "        <ul style='list-style-type: none'>\\\n",
    "            <li><h3>Cat</h3></li>\\\n",
    "            <li><img src = 'data/images/cat/mfcc_1.png'/></li> \\\n",
    "        </ul>\\\n",
    "    </li>\\\n",
    "    <li style = 'float:left'>\\\n",
    "        <ul style='list-style-type: none'>\\\n",
    "            <li><h3>Dog</h3></li>\\\n",
    "            <li><img src = 'data/images/dog/mfcc_6.png'/></li> \\\n",
    "        </ul>\\\n",
    "    </li>\\\n",
    "    <ul> \\\n",
    "    </ul>\"\n",
    "\n",
    "))\n",
    "\n",
    "\n",
    "HTML('''<script>\n",
    "code_show=true; \n",
    "function code_toggle() {\n",
    " if (code_show){\n",
    " $('div.input').hide();\n",
    " } else {\n",
    " $('div.input').show();\n",
    " }\n",
    " code_show = !code_show\n",
    "} \n",
    "$( document ).ready(code_toggle);\n",
    "</script>\n",
    "The raw code for this IPython notebook is by default hidden for easier reading.\n",
    "To toggle on/off the raw code, click <a href=\"javascript:code_toggle()\">here</a>.''')"
   ]
  },
  {
   "cell_type": "markdown",
   "metadata": {},
   "source": [
    "# 2. Imports of modules & reading the dataset"
   ]
  },
  {
   "cell_type": "markdown",
   "metadata": {},
   "source": [
    "### 2.1 Importing libraries"
   ]
  },
  {
   "cell_type": "code",
   "execution_count": 52,
   "metadata": {},
   "outputs": [],
   "source": [
    "import os\n",
    "import random\n",
    "import librosa\n",
    "import librosa.display\n",
    "from scipy.io import wavfile\n",
    "import matplotlib.pyplot as plt\n",
    "import numpy as np\n",
    "from IPython.display import HTML, display\n",
    "import plotly.graph_objs as go\n",
    "from scipy import signal"
   ]
  },
  {
   "cell_type": "markdown",
   "metadata": {},
   "source": [
    "### 2.2 Read the dataset"
   ]
  },
  {
   "cell_type": "code",
   "execution_count": 26,
   "metadata": {},
   "outputs": [],
   "source": [
    "\"\"\"Creating a string path variables for future easier use\"\"\"\n",
    "general_path = os.getcwd() + \"\\\\data\\\\\"\n",
    "dog_path = general_path + \"dog\"\n",
    "cat_path = general_path + \"cat\""
   ]
  },
  {
   "cell_type": "markdown",
   "metadata": {},
   "source": [
    "### 2.3 Lists of files"
   ]
  },
  {
   "cell_type": "code",
   "execution_count": 27,
   "metadata": {},
   "outputs": [],
   "source": [
    "cats_list = os.listdir(cat_path)\n",
    "dogs_list = os.listdir(dog_path)"
   ]
  },
  {
   "cell_type": "code",
   "execution_count": 28,
   "metadata": {},
   "outputs": [],
   "source": [
    "def pick_random_files(list_of_files, total):\n",
    "    random_list = []\n",
    "    output_str_list = []\n",
    "    for i in range(0, total):\n",
    "        random_index = random.randint(0, len(list_of_files))\n",
    "        while random_index in random_list:\n",
    "            random_index = random.randint(0, len(list_of_files))\n",
    "        output_str_list.append(list_of_files[random_index])\n",
    "    return output_str_list"
   ]
  },
  {
   "cell_type": "code",
   "execution_count": 29,
   "metadata": {},
   "outputs": [],
   "source": [
    "total = 10\n",
    "cats_files = pick_random_files(cats_list, total)\n",
    "dogs_files = pick_random_files(dogs_list, total)  "
   ]
  },
  {
   "cell_type": "markdown",
   "metadata": {},
   "source": [
    "# 3. Converting .wav files into images(.PNG)"
   ]
  },
  {
   "cell_type": "markdown",
   "metadata": {},
   "source": [
    "### 3.1 Creating path vars"
   ]
  },
  {
   "cell_type": "code",
   "execution_count": 30,
   "metadata": {},
   "outputs": [],
   "source": [
    "dogs_images_path = general_path + \"\\\\images\\\\dog\"\n",
    "cats_images_path = general_path + \"\\\\images\\\\cat\""
   ]
  },
  {
   "cell_type": "markdown",
   "metadata": {},
   "source": [
    "### 3.2 Spectrograms of the files and saving them"
   ]
  },
  {
   "cell_type": "markdown",
   "metadata": {},
   "source": [
    "#### 3.2.1 Dogs"
   ]
  },
  {
   "cell_type": "code",
   "execution_count": 78,
   "metadata": {},
   "outputs": [],
   "source": [
    "counter = 0\n",
    "for file in dogs_files:\n",
    "    x, sr = librosa.load(dog_path + \"\\\\\" + file)\n",
    "    X = librosa.stft(x)\n",
    "    Xdb = librosa.amplitude_to_db(abs(X))\n",
    "    librosa.display.specshow(Xdb, sr=sr, x_axis='time', y_axis='hz')\n",
    "    plt.savefig(dogs_images_path + \"\\\\\" + str(counter))\n",
    "    plt.close()\n",
    "    counter = counter + 1"
   ]
  },
  {
   "cell_type": "markdown",
   "metadata": {},
   "source": [
    "#### 3.2.2 Cats"
   ]
  },
  {
   "cell_type": "code",
   "execution_count": 80,
   "metadata": {},
   "outputs": [],
   "source": [
    "counter = 0\n",
    "for file in cats_files:\n",
    "    x, sr = librosa.load(cat_path + \"\\\\\" + file)\n",
    "    X = librosa.stft(x)\n",
    "    Xdb = librosa.amplitude_to_db(abs(X))\n",
    "    librosa.display.specshow(Xdb, sr=sr, x_axis='time', y_axis='hz')\n",
    "    plt.savefig(cats_images_path + \"\\\\\" + str(counter))\n",
    "    plt.close()\n",
    "    counter = counter + 1"
   ]
  },
  {
   "cell_type": "markdown",
   "metadata": {},
   "source": [
    "### 3.3 Mel-Frequency Cepstral Coefficients Exploration, Plotting & Saving "
   ]
  },
  {
   "cell_type": "markdown",
   "metadata": {},
   "source": [
    "#### 3.3.1 Universal function creating MFCC features and saving"
   ]
  },
  {
   "cell_type": "code",
   "execution_count": 31,
   "metadata": {},
   "outputs": [],
   "source": [
    "def handle_mfcc(directory, destination, list_of_files):\n",
    "    counter = 0\n",
    "    prefix = \"mfcc_\"\n",
    "    for file in list_of_files:\n",
    "        samples, sr = librosa.load(directory + \"\\\\\" + file)\n",
    "        S = librosa.feature.melspectrogram(samples, sr= sr, n_mels=128)\n",
    "        log_S = librosa.power_to_db(S, ref=np.max)\n",
    "        librosa.display.specshow(log_S, sr=sr, x_axis='time', y_axis='mel')\n",
    "        plt.colorbar(format='%+02.0f dB')\n",
    "        plt.savefig(destination + \"\\\\\" + prefix + str(counter))\n",
    "        plt.close()\n",
    "        counter = counter + 1"
   ]
  },
  {
   "cell_type": "markdown",
   "metadata": {},
   "source": [
    "#### 3.3.2 Applying the above function"
   ]
  },
  {
   "cell_type": "code",
   "execution_count": 89,
   "metadata": {},
   "outputs": [],
   "source": [
    "handle_mfcc(dog_path, dogs_images_path, dogs_files)\n",
    "handle_mfcc(cat_path, cats_images_path, cats_files)"
   ]
  },
  {
   "cell_type": "markdown",
   "metadata": {},
   "source": [
    "# 4. 3D visualisation"
   ]
  },
  {
   "cell_type": "markdown",
   "metadata": {},
   "source": [
    "### 4.1 3D Spectrograms"
   ]
  },
  {
   "cell_type": "markdown",
   "metadata": {},
   "source": [
    "#### 4.1.1 Function extracting necessary features to plot on 3D diagram"
   ]
  },
  {
   "cell_type": "code",
   "execution_count": 76,
   "metadata": {},
   "outputs": [],
   "source": [
    "def log_specgram(audio, sample_rate, window_size=20,\n",
    "                 step_size=10, eps=1e-10):\n",
    "    nperseg = int(round(window_size * sample_rate / 1e3))\n",
    "    noverlap = int(round(step_size * sample_rate / 1e3))\n",
    "    freqs, times, spec = signal.spectrogram(audio,\n",
    "                                    fs=sample_rate,\n",
    "                                    window='hann',\n",
    "                                    nperseg=nperseg,\n",
    "                                    noverlap=noverlap,\n",
    "                                    detrend=False)\n",
    "    return freqs, times, np.log(spec.T.astype(np.float32) + eps)"
   ]
  },
  {
   "cell_type": "markdown",
   "metadata": {},
   "source": [
    "#### 4.1.2 Picking an exemplary file to read"
   ]
  },
  {
   "cell_type": "code",
   "execution_count": 85,
   "metadata": {},
   "outputs": [],
   "source": [
    "audio, sr = wavfile.read(str(dog_path) + \"\\\\\" + \"dog_barking_1.wav\")"
   ]
  },
  {
   "cell_type": "markdown",
   "metadata": {},
   "source": [
    "# 5. To be continued...."
   ]
  }
 ],
 "metadata": {
  "kernelspec": {
   "display_name": "Python 3",
   "language": "python",
   "name": "python3"
  },
  "language_info": {
   "codemirror_mode": {
    "name": "ipython",
    "version": 3
   },
   "file_extension": ".py",
   "mimetype": "text/x-python",
   "name": "python",
   "nbconvert_exporter": "python",
   "pygments_lexer": "ipython3",
   "version": "3.6.5"
  }
 },
 "nbformat": 4,
 "nbformat_minor": 2
}
